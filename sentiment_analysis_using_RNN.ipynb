{
  "nbformat": 4,
  "nbformat_minor": 0,
  "metadata": {
    "colab": {
      "provenance": [],
      "authorship_tag": "ABX9TyO3fDmj9Q474IMz6v9Eml/a",
      "include_colab_link": true
    },
    "kernelspec": {
      "name": "python3",
      "display_name": "Python 3"
    },
    "language_info": {
      "name": "python"
    }
  },
  "cells": [
    {
      "cell_type": "markdown",
      "metadata": {
        "id": "view-in-github",
        "colab_type": "text"
      },
      "source": [
        "<a href=\"https://colab.research.google.com/github/chandankr014/Deep_learning/blob/main/sentiment_analysis_using_RNN.ipynb\" target=\"_parent\"><img src=\"https://colab.research.google.com/assets/colab-badge.svg\" alt=\"Open In Colab\"/></a>"
      ]
    },
    {
      "cell_type": "code",
      "execution_count": 7,
      "metadata": {
        "id": "gVueWXoUuFov"
      },
      "outputs": [],
      "source": [
        "import pandas as pd\n",
        "import numpy as np\n",
        "import matplotlib.pyplot as plt\n",
        "from sklearn.model_selection import train_test_split"
      ]
    },
    {
      "cell_type": "code",
      "source": [
        "df = pd.read_csv(\"https://raw.githubusercontent.com/AarohiSingla/Aarohi/master/yelp.csv\")"
      ],
      "metadata": {
        "id": "gQxuMRzque3X"
      },
      "execution_count": 2,
      "outputs": []
    },
    {
      "cell_type": "code",
      "source": [
        "df.head()"
      ],
      "metadata": {
        "colab": {
          "base_uri": "https://localhost:8080/",
          "height": 206
        },
        "id": "sNQh8OMIvkq7",
        "outputId": "b2e7f84e-05fc-49f2-ba59-01c0a17cfeca"
      },
      "execution_count": 3,
      "outputs": [
        {
          "output_type": "execute_result",
          "data": {
            "text/plain": [
              "   Unnamed: 0                                           sentence  label source\n",
              "0           0                           Wow... Loved this place.      1   yelp\n",
              "1           1                                 Crust is not good.      0   yelp\n",
              "2           2          Not tasty and the texture was just nasty.      0   yelp\n",
              "3           3  Stopped by during the late May bank holiday of...      1   yelp\n",
              "4           4  The selection on the menu was great and so wer...      1   yelp"
            ],
            "text/html": [
              "\n",
              "  <div id=\"df-407a877c-5682-4000-8741-45b0acc906b7\">\n",
              "    <div class=\"colab-df-container\">\n",
              "      <div>\n",
              "<style scoped>\n",
              "    .dataframe tbody tr th:only-of-type {\n",
              "        vertical-align: middle;\n",
              "    }\n",
              "\n",
              "    .dataframe tbody tr th {\n",
              "        vertical-align: top;\n",
              "    }\n",
              "\n",
              "    .dataframe thead th {\n",
              "        text-align: right;\n",
              "    }\n",
              "</style>\n",
              "<table border=\"1\" class=\"dataframe\">\n",
              "  <thead>\n",
              "    <tr style=\"text-align: right;\">\n",
              "      <th></th>\n",
              "      <th>Unnamed: 0</th>\n",
              "      <th>sentence</th>\n",
              "      <th>label</th>\n",
              "      <th>source</th>\n",
              "    </tr>\n",
              "  </thead>\n",
              "  <tbody>\n",
              "    <tr>\n",
              "      <th>0</th>\n",
              "      <td>0</td>\n",
              "      <td>Wow... Loved this place.</td>\n",
              "      <td>1</td>\n",
              "      <td>yelp</td>\n",
              "    </tr>\n",
              "    <tr>\n",
              "      <th>1</th>\n",
              "      <td>1</td>\n",
              "      <td>Crust is not good.</td>\n",
              "      <td>0</td>\n",
              "      <td>yelp</td>\n",
              "    </tr>\n",
              "    <tr>\n",
              "      <th>2</th>\n",
              "      <td>2</td>\n",
              "      <td>Not tasty and the texture was just nasty.</td>\n",
              "      <td>0</td>\n",
              "      <td>yelp</td>\n",
              "    </tr>\n",
              "    <tr>\n",
              "      <th>3</th>\n",
              "      <td>3</td>\n",
              "      <td>Stopped by during the late May bank holiday of...</td>\n",
              "      <td>1</td>\n",
              "      <td>yelp</td>\n",
              "    </tr>\n",
              "    <tr>\n",
              "      <th>4</th>\n",
              "      <td>4</td>\n",
              "      <td>The selection on the menu was great and so wer...</td>\n",
              "      <td>1</td>\n",
              "      <td>yelp</td>\n",
              "    </tr>\n",
              "  </tbody>\n",
              "</table>\n",
              "</div>\n",
              "      <button class=\"colab-df-convert\" onclick=\"convertToInteractive('df-407a877c-5682-4000-8741-45b0acc906b7')\"\n",
              "              title=\"Convert this dataframe to an interactive table.\"\n",
              "              style=\"display:none;\">\n",
              "        \n",
              "  <svg xmlns=\"http://www.w3.org/2000/svg\" height=\"24px\"viewBox=\"0 0 24 24\"\n",
              "       width=\"24px\">\n",
              "    <path d=\"M0 0h24v24H0V0z\" fill=\"none\"/>\n",
              "    <path d=\"M18.56 5.44l.94 2.06.94-2.06 2.06-.94-2.06-.94-.94-2.06-.94 2.06-2.06.94zm-11 1L8.5 8.5l.94-2.06 2.06-.94-2.06-.94L8.5 2.5l-.94 2.06-2.06.94zm10 10l.94 2.06.94-2.06 2.06-.94-2.06-.94-.94-2.06-.94 2.06-2.06.94z\"/><path d=\"M17.41 7.96l-1.37-1.37c-.4-.4-.92-.59-1.43-.59-.52 0-1.04.2-1.43.59L10.3 9.45l-7.72 7.72c-.78.78-.78 2.05 0 2.83L4 21.41c.39.39.9.59 1.41.59.51 0 1.02-.2 1.41-.59l7.78-7.78 2.81-2.81c.8-.78.8-2.07 0-2.86zM5.41 20L4 18.59l7.72-7.72 1.47 1.35L5.41 20z\"/>\n",
              "  </svg>\n",
              "      </button>\n",
              "      \n",
              "  <style>\n",
              "    .colab-df-container {\n",
              "      display:flex;\n",
              "      flex-wrap:wrap;\n",
              "      gap: 12px;\n",
              "    }\n",
              "\n",
              "    .colab-df-convert {\n",
              "      background-color: #E8F0FE;\n",
              "      border: none;\n",
              "      border-radius: 50%;\n",
              "      cursor: pointer;\n",
              "      display: none;\n",
              "      fill: #1967D2;\n",
              "      height: 32px;\n",
              "      padding: 0 0 0 0;\n",
              "      width: 32px;\n",
              "    }\n",
              "\n",
              "    .colab-df-convert:hover {\n",
              "      background-color: #E2EBFA;\n",
              "      box-shadow: 0px 1px 2px rgba(60, 64, 67, 0.3), 0px 1px 3px 1px rgba(60, 64, 67, 0.15);\n",
              "      fill: #174EA6;\n",
              "    }\n",
              "\n",
              "    [theme=dark] .colab-df-convert {\n",
              "      background-color: #3B4455;\n",
              "      fill: #D2E3FC;\n",
              "    }\n",
              "\n",
              "    [theme=dark] .colab-df-convert:hover {\n",
              "      background-color: #434B5C;\n",
              "      box-shadow: 0px 1px 3px 1px rgba(0, 0, 0, 0.15);\n",
              "      filter: drop-shadow(0px 1px 2px rgba(0, 0, 0, 0.3));\n",
              "      fill: #FFFFFF;\n",
              "    }\n",
              "  </style>\n",
              "\n",
              "      <script>\n",
              "        const buttonEl =\n",
              "          document.querySelector('#df-407a877c-5682-4000-8741-45b0acc906b7 button.colab-df-convert');\n",
              "        buttonEl.style.display =\n",
              "          google.colab.kernel.accessAllowed ? 'block' : 'none';\n",
              "\n",
              "        async function convertToInteractive(key) {\n",
              "          const element = document.querySelector('#df-407a877c-5682-4000-8741-45b0acc906b7');\n",
              "          const dataTable =\n",
              "            await google.colab.kernel.invokeFunction('convertToInteractive',\n",
              "                                                     [key], {});\n",
              "          if (!dataTable) return;\n",
              "\n",
              "          const docLinkHtml = 'Like what you see? Visit the ' +\n",
              "            '<a target=\"_blank\" href=https://colab.research.google.com/notebooks/data_table.ipynb>data table notebook</a>'\n",
              "            + ' to learn more about interactive tables.';\n",
              "          element.innerHTML = '';\n",
              "          dataTable['output_type'] = 'display_data';\n",
              "          await google.colab.output.renderOutput(dataTable, element);\n",
              "          const docLink = document.createElement('div');\n",
              "          docLink.innerHTML = docLinkHtml;\n",
              "          element.appendChild(docLink);\n",
              "        }\n",
              "      </script>\n",
              "    </div>\n",
              "  </div>\n",
              "  "
            ]
          },
          "metadata": {},
          "execution_count": 3
        }
      ]
    },
    {
      "cell_type": "code",
      "source": [
        "df.shape"
      ],
      "metadata": {
        "colab": {
          "base_uri": "https://localhost:8080/"
        },
        "id": "u4Ok1usDvl4C",
        "outputId": "81479227-400e-4731-db34-5f591de7e9f9"
      },
      "execution_count": 4,
      "outputs": [
        {
          "output_type": "execute_result",
          "data": {
            "text/plain": [
              "(1000, 4)"
            ]
          },
          "metadata": {},
          "execution_count": 4
        }
      ]
    },
    {
      "cell_type": "code",
      "source": [
        "x = df['sentence']\n",
        "y = df['label']"
      ],
      "metadata": {
        "id": "d8CK3gnfvoW_"
      },
      "execution_count": 5,
      "outputs": []
    },
    {
      "cell_type": "code",
      "source": [
        "xtrn, xtst, ytrn, ytst = train_test_split(x, y, random_state=3, test_size=0.3)"
      ],
      "metadata": {
        "id": "yEacRKIiwNa_"
      },
      "execution_count": 85,
      "outputs": []
    },
    {
      "cell_type": "code",
      "source": [
        "xtrn.shape, xtst.shape, ytrn.shape, ytst.shape"
      ],
      "metadata": {
        "colab": {
          "base_uri": "https://localhost:8080/"
        },
        "id": "crV1r6-ywRxJ",
        "outputId": "856b8e00-1a2d-4dfa-e0b0-d98c13a8b302"
      },
      "execution_count": 86,
      "outputs": [
        {
          "output_type": "execute_result",
          "data": {
            "text/plain": [
              "((700,), (300,), (700,), (300,))"
            ]
          },
          "metadata": {},
          "execution_count": 86
        }
      ]
    },
    {
      "cell_type": "markdown",
      "source": [
        "---"
      ],
      "metadata": {
        "id": "4AiFBu_Uyv9W"
      }
    },
    {
      "cell_type": "code",
      "source": [
        "from keras.preprocessing.text import Tokenizer"
      ],
      "metadata": {
        "id": "kMgpaFdQyaa3"
      },
      "execution_count": 87,
      "outputs": []
    },
    {
      "cell_type": "code",
      "source": [
        "tokenizer = Tokenizer(num_words=20, lower=True)"
      ],
      "metadata": {
        "id": "o5NcdyfUytsI"
      },
      "execution_count": 88,
      "outputs": []
    },
    {
      "cell_type": "code",
      "source": [
        "tokenizer.fit_on_texts(xtrn)"
      ],
      "metadata": {
        "id": "gWtvQv2wyti4"
      },
      "execution_count": 89,
      "outputs": []
    },
    {
      "cell_type": "code",
      "source": [
        "xtrn[170]"
      ],
      "metadata": {
        "colab": {
          "base_uri": "https://localhost:8080/",
          "height": 35
        },
        "id": "uyqm1TmNytdz",
        "outputId": "b0305b56-e95b-4800-97f7-f8584c37f734"
      },
      "execution_count": 90,
      "outputs": [
        {
          "output_type": "execute_result",
          "data": {
            "text/plain": [
              "'We also ordered the spinach and avocado salad; the ingredients were sad and the dressing literally had zero taste.'"
            ],
            "application/vnd.google.colaboratory.intrinsic+json": {
              "type": "string"
            }
          },
          "metadata": {},
          "execution_count": 90
        }
      ]
    },
    {
      "cell_type": "code",
      "source": [
        "xtrn = tokenizer.texts_to_sequences(xtrn)\n",
        "xtst = tokenizer.texts_to_sequences(xtst)"
      ],
      "metadata": {
        "id": "-K_rGXdqzYRy"
      },
      "execution_count": 91,
      "outputs": []
    },
    {
      "cell_type": "code",
      "source": [
        "xtrn[170]"
      ],
      "metadata": {
        "colab": {
          "base_uri": "https://localhost:8080/"
        },
        "id": "pbkDoU94zt-7",
        "outputId": "c7874d12-e9b2-4cb1-f757-b000ef90bb15"
      },
      "execution_count": 92,
      "outputs": [
        {
          "output_type": "execute_result",
          "data": {
            "text/plain": [
              "[19, 8, 4, 11, 15]"
            ]
          },
          "metadata": {},
          "execution_count": 92
        }
      ]
    },
    {
      "cell_type": "code",
      "source": [
        "ytrn.head()"
      ],
      "metadata": {
        "colab": {
          "base_uri": "https://localhost:8080/"
        },
        "id": "Dko7RB6H0oNH",
        "outputId": "5814d290-c7df-4c11-8534-e15f0553916c"
      },
      "execution_count": 93,
      "outputs": [
        {
          "output_type": "execute_result",
          "data": {
            "text/plain": [
              "926    0\n",
              "411    1\n",
              "224    0\n",
              "14     0\n",
              "170    0\n",
              "Name: label, dtype: int64"
            ]
          },
          "metadata": {},
          "execution_count": 93
        }
      ]
    },
    {
      "cell_type": "code",
      "source": [
        "from keras.utils.data_utils import pad_sequences"
      ],
      "metadata": {
        "id": "WZpBsHnR1i0u"
      },
      "execution_count": 94,
      "outputs": []
    },
    {
      "cell_type": "code",
      "source": [
        "n = 20\n",
        "xtrn_pad = pad_sequences(xtrn, padding='post', maxlen=n)\n",
        "xtst_pad = pad_sequences(xtst, padding='post', maxlen=n)"
      ],
      "metadata": {
        "id": "lKB7qoj62elZ"
      },
      "execution_count": 100,
      "outputs": []
    },
    {
      "cell_type": "code",
      "source": [
        "xtrn[:5]"
      ],
      "metadata": {
        "colab": {
          "base_uri": "https://localhost:8080/"
        },
        "id": "D338asUD2CB9",
        "outputId": "489db12c-2632-4a97-b064-b3902fff9e11"
      },
      "execution_count": 101,
      "outputs": [
        {
          "output_type": "execute_result",
          "data": {
            "text/plain": [
              "[[10, 4, 3, 1, 6, 10], [2], [10, 4, 11], [3, 4, 3, 4, 4], [1, 2, 1, 2, 1]]"
            ]
          },
          "metadata": {},
          "execution_count": 101
        }
      ]
    },
    {
      "cell_type": "code",
      "source": [
        "xtrn_pad[:5]"
      ],
      "metadata": {
        "colab": {
          "base_uri": "https://localhost:8080/"
        },
        "id": "NALLAvA32FOV",
        "outputId": "ee548992-0380-498b-94d7-e5f60b6cc3d4"
      },
      "execution_count": 102,
      "outputs": [
        {
          "output_type": "execute_result",
          "data": {
            "text/plain": [
              "array([[10,  4,  3,  1,  6, 10,  0,  0,  0,  0,  0,  0,  0,  0,  0,  0,\n",
              "         0,  0,  0,  0],\n",
              "       [ 2,  0,  0,  0,  0,  0,  0,  0,  0,  0,  0,  0,  0,  0,  0,  0,\n",
              "         0,  0,  0,  0],\n",
              "       [10,  4, 11,  0,  0,  0,  0,  0,  0,  0,  0,  0,  0,  0,  0,  0,\n",
              "         0,  0,  0,  0],\n",
              "       [ 3,  4,  3,  4,  4,  0,  0,  0,  0,  0,  0,  0,  0,  0,  0,  0,\n",
              "         0,  0,  0,  0],\n",
              "       [ 1,  2,  1,  2,  1,  0,  0,  0,  0,  0,  0,  0,  0,  0,  0,  0,\n",
              "         0,  0,  0,  0]], dtype=int32)"
            ]
          },
          "metadata": {},
          "execution_count": 102
        }
      ]
    },
    {
      "cell_type": "code",
      "source": [
        "xtrn[170]"
      ],
      "metadata": {
        "colab": {
          "base_uri": "https://localhost:8080/"
        },
        "id": "5lCslVQe2rrf",
        "outputId": "a4b7dd38-dbde-4cd5-c983-5c1960bd1af9"
      },
      "execution_count": 104,
      "outputs": [
        {
          "output_type": "execute_result",
          "data": {
            "text/plain": [
              "[19, 8, 4, 11, 15]"
            ]
          },
          "metadata": {},
          "execution_count": 104
        }
      ]
    },
    {
      "cell_type": "code",
      "source": [
        "from keras.utils import to_categorical"
      ],
      "metadata": {
        "id": "2t2Lg-v02zFq"
      },
      "execution_count": 105,
      "outputs": []
    },
    {
      "cell_type": "code",
      "source": [
        "n_classes = 2\n",
        "y_trn = to_categorical(ytrn, n_classes)\n",
        "y_tst = to_categorical(ytst, n_classes)"
      ],
      "metadata": {
        "id": "gZQ4bLwh4Flp"
      },
      "execution_count": 106,
      "outputs": []
    },
    {
      "cell_type": "code",
      "source": [
        "y_trn.shape"
      ],
      "metadata": {
        "colab": {
          "base_uri": "https://localhost:8080/"
        },
        "id": "MTWFGDFP4V4l",
        "outputId": "49a8d244-6d91-4dd9-817b-f4e712aa75ff"
      },
      "execution_count": 109,
      "outputs": [
        {
          "output_type": "execute_result",
          "data": {
            "text/plain": [
              "(700, 2)"
            ]
          },
          "metadata": {},
          "execution_count": 109
        }
      ]
    },
    {
      "cell_type": "code",
      "source": [
        "y_tst[:7]"
      ],
      "metadata": {
        "colab": {
          "base_uri": "https://localhost:8080/"
        },
        "id": "1ZED4P3y4b1U",
        "outputId": "afe735c8-a866-42fd-cc46-0dc524ca2c1f"
      },
      "execution_count": 111,
      "outputs": [
        {
          "output_type": "execute_result",
          "data": {
            "text/plain": [
              "array([[0., 1.],\n",
              "       [1., 0.],\n",
              "       [0., 1.],\n",
              "       [0., 1.],\n",
              "       [0., 1.],\n",
              "       [0., 1.],\n",
              "       [0., 1.]], dtype=float32)"
            ]
          },
          "metadata": {},
          "execution_count": 111
        }
      ]
    },
    {
      "cell_type": "markdown",
      "source": [
        "##RNN Model"
      ],
      "metadata": {
        "id": "-2PPyFBA5Hwk"
      }
    },
    {
      "cell_type": "code",
      "source": [
        "!pip install Sequencial"
      ],
      "metadata": {
        "id": "T4T2FC6q4k0F"
      },
      "execution_count": null,
      "outputs": []
    },
    {
      "cell_type": "code",
      "source": [
        "from keras import Sequential"
      ],
      "metadata": {
        "id": "hpCVKnaY6Xmz"
      },
      "execution_count": 150,
      "outputs": []
    },
    {
      "cell_type": "code",
      "source": [
        "from keras.layers import Dense, Dropout, Activation, SimpleRNN"
      ],
      "metadata": {
        "id": "03YDnSrt542C"
      },
      "execution_count": 151,
      "outputs": []
    },
    {
      "cell_type": "code",
      "source": [
        "from keras import optimizers"
      ],
      "metadata": {
        "id": "XzuVLgqL5KxE"
      },
      "execution_count": 152,
      "outputs": []
    },
    {
      "cell_type": "code",
      "source": [
        "x_trn = np.array(xtrn_pad).reshape((xtrn_pad.shape[0], xtrn_pad.shape[1], 1))"
      ],
      "metadata": {
        "id": "j86_0hs77_Cx"
      },
      "execution_count": 153,
      "outputs": []
    },
    {
      "cell_type": "code",
      "source": [
        "x_tst = np.array(xtst_pad).reshape((xtst_pad.shape[0], xtst_pad.shape[1], 1))"
      ],
      "metadata": {
        "id": "zhsVJgk06ixM"
      },
      "execution_count": 154,
      "outputs": []
    },
    {
      "cell_type": "code",
      "source": [
        "x_trn.shape, x_tst.shape"
      ],
      "metadata": {
        "colab": {
          "base_uri": "https://localhost:8080/"
        },
        "id": "E8i-KjGT678J",
        "outputId": "8f648285-db09-47b6-8b82-7ee39b07386b"
      },
      "execution_count": 155,
      "outputs": [
        {
          "output_type": "execute_result",
          "data": {
            "text/plain": [
              "((700, 20, 1), (300, 20, 1))"
            ]
          },
          "metadata": {},
          "execution_count": 155
        }
      ]
    },
    {
      "cell_type": "code",
      "source": [
        "##building model\n",
        "def vanilla_RNN():\n",
        "  model = Sequential()\n",
        "  model.add(SimpleRNN(50, input_shape=(20,1), return_sequences=False))\n",
        "  model.add(Dense(n_classes))\n",
        "  model.add(Activation('softmax'))\n",
        "  model.summary()\n",
        "\n",
        "  adam = optimizers.Adam(learning_rate=0.001)\n",
        "  model.compile(loss='categorical_crossentropy', optimizer=adam, metrics=['accuracy'])\n",
        "  \n",
        "  return model"
      ],
      "metadata": {
        "id": "gNLBLJ_H9lwW"
      },
      "execution_count": 202,
      "outputs": []
    },
    {
      "cell_type": "code",
      "source": [
        "from keras.wrappers.scikit_learn import KerasClassifier\n",
        "\n",
        "model = KerasClassifier(build_fn=vanilla_RNN, epochs=500, batch_size=20)\n",
        "model.fit(x_trn, y_trn)"
      ],
      "metadata": {
        "colab": {
          "base_uri": "https://localhost:8080/"
        },
        "id": "gngAMzsZ-vTe",
        "outputId": "85400cc3-c1d7-483d-9a25-bc9a90928009"
      },
      "execution_count": 205,
      "outputs": [
        {
          "output_type": "stream",
          "name": "stdout",
          "text": [
            "Model: \"sequential_10\"\n",
            "_________________________________________________________________\n",
            " Layer (type)                Output Shape              Param #   \n",
            "=================================================================\n",
            " simple_rnn_9 (SimpleRNN)    (None, 50)                2600      \n",
            "                                                                 \n",
            " dense_9 (Dense)             (None, 2)                 102       \n",
            "                                                                 \n",
            " activation_9 (Activation)   (None, 2)                 0         \n",
            "                                                                 \n",
            "=================================================================\n",
            "Total params: 2,702\n",
            "Trainable params: 2,702\n",
            "Non-trainable params: 0\n",
            "_________________________________________________________________\n"
          ]
        },
        {
          "output_type": "stream",
          "name": "stderr",
          "text": [
            "/usr/local/lib/python3.7/dist-packages/ipykernel_launcher.py:3: DeprecationWarning: KerasClassifier is deprecated, use Sci-Keras (https://github.com/adriangb/scikeras) instead. See https://www.adriangb.com/scikeras/stable/migration.html for help migrating.\n",
            "  This is separate from the ipykernel package so we can avoid doing imports until\n"
          ]
        },
        {
          "output_type": "stream",
          "name": "stdout",
          "text": [
            "Epoch 1/500\n",
            "35/35 [==============================] - 1s 6ms/step - loss: 0.7050 - accuracy: 0.4871\n",
            "Epoch 2/500\n",
            "35/35 [==============================] - 0s 5ms/step - loss: 0.6952 - accuracy: 0.4900\n",
            "Epoch 3/500\n",
            "35/35 [==============================] - 0s 5ms/step - loss: 0.6919 - accuracy: 0.5329\n",
            "Epoch 4/500\n",
            "35/35 [==============================] - 0s 5ms/step - loss: 0.6913 - accuracy: 0.5429\n",
            "Epoch 5/500\n",
            "35/35 [==============================] - 0s 5ms/step - loss: 0.6841 - accuracy: 0.5286\n",
            "Epoch 6/500\n",
            "35/35 [==============================] - 0s 5ms/step - loss: 0.6816 - accuracy: 0.5529\n",
            "Epoch 7/500\n",
            "35/35 [==============================] - 0s 6ms/step - loss: 0.6810 - accuracy: 0.5457\n",
            "Epoch 8/500\n",
            "35/35 [==============================] - 0s 6ms/step - loss: 0.6826 - accuracy: 0.5586\n",
            "Epoch 9/500\n",
            "35/35 [==============================] - 0s 6ms/step - loss: 0.6793 - accuracy: 0.5557\n",
            "Epoch 10/500\n",
            "35/35 [==============================] - 0s 5ms/step - loss: 0.6783 - accuracy: 0.5857\n",
            "Epoch 11/500\n",
            "35/35 [==============================] - 0s 5ms/step - loss: 0.6738 - accuracy: 0.5786\n",
            "Epoch 12/500\n",
            "35/35 [==============================] - 0s 5ms/step - loss: 0.6849 - accuracy: 0.5386\n",
            "Epoch 13/500\n",
            "35/35 [==============================] - 0s 6ms/step - loss: 0.6752 - accuracy: 0.5629\n",
            "Epoch 14/500\n",
            "35/35 [==============================] - 0s 5ms/step - loss: 0.6768 - accuracy: 0.5657\n",
            "Epoch 15/500\n",
            "35/35 [==============================] - 0s 5ms/step - loss: 0.6814 - accuracy: 0.5529\n",
            "Epoch 16/500\n",
            "35/35 [==============================] - 0s 6ms/step - loss: 0.6733 - accuracy: 0.5843\n",
            "Epoch 17/500\n",
            "35/35 [==============================] - 0s 6ms/step - loss: 0.6736 - accuracy: 0.5629\n",
            "Epoch 18/500\n",
            "35/35 [==============================] - 0s 5ms/step - loss: 0.6692 - accuracy: 0.5757\n",
            "Epoch 19/500\n",
            "35/35 [==============================] - 0s 5ms/step - loss: 0.6664 - accuracy: 0.5986\n",
            "Epoch 20/500\n",
            "35/35 [==============================] - 0s 5ms/step - loss: 0.6709 - accuracy: 0.5786\n",
            "Epoch 21/500\n",
            "35/35 [==============================] - 0s 5ms/step - loss: 0.6834 - accuracy: 0.5557\n",
            "Epoch 22/500\n",
            "35/35 [==============================] - 0s 5ms/step - loss: 0.6691 - accuracy: 0.5829\n",
            "Epoch 23/500\n",
            "35/35 [==============================] - 0s 5ms/step - loss: 0.6600 - accuracy: 0.5886\n",
            "Epoch 24/500\n",
            "35/35 [==============================] - 0s 5ms/step - loss: 0.6775 - accuracy: 0.5571\n",
            "Epoch 25/500\n",
            "35/35 [==============================] - 0s 5ms/step - loss: 0.6631 - accuracy: 0.5643\n",
            "Epoch 26/500\n",
            "35/35 [==============================] - 0s 5ms/step - loss: 0.6610 - accuracy: 0.6171\n",
            "Epoch 27/500\n",
            "35/35 [==============================] - 0s 5ms/step - loss: 0.6648 - accuracy: 0.5857\n",
            "Epoch 28/500\n",
            "35/35 [==============================] - 0s 5ms/step - loss: 0.6595 - accuracy: 0.5886\n",
            "Epoch 29/500\n",
            "35/35 [==============================] - 0s 6ms/step - loss: 0.6552 - accuracy: 0.5929\n",
            "Epoch 30/500\n",
            "35/35 [==============================] - 0s 5ms/step - loss: 0.6562 - accuracy: 0.6057\n",
            "Epoch 31/500\n",
            "35/35 [==============================] - 0s 5ms/step - loss: 0.6492 - accuracy: 0.6057\n",
            "Epoch 32/500\n",
            "35/35 [==============================] - 0s 5ms/step - loss: 0.6587 - accuracy: 0.6014\n",
            "Epoch 33/500\n",
            "35/35 [==============================] - 0s 5ms/step - loss: 0.6449 - accuracy: 0.6200\n",
            "Epoch 34/500\n",
            "35/35 [==============================] - 0s 6ms/step - loss: 0.6468 - accuracy: 0.6157\n",
            "Epoch 35/500\n",
            "35/35 [==============================] - 0s 5ms/step - loss: 0.6482 - accuracy: 0.6114\n",
            "Epoch 36/500\n",
            "35/35 [==============================] - 0s 5ms/step - loss: 0.6454 - accuracy: 0.6086\n",
            "Epoch 37/500\n",
            "35/35 [==============================] - 0s 5ms/step - loss: 0.6392 - accuracy: 0.6243\n",
            "Epoch 38/500\n",
            "35/35 [==============================] - 0s 5ms/step - loss: 0.6396 - accuracy: 0.6129\n",
            "Epoch 39/500\n",
            "35/35 [==============================] - 0s 6ms/step - loss: 0.6512 - accuracy: 0.6243\n",
            "Epoch 40/500\n",
            "35/35 [==============================] - 0s 5ms/step - loss: 0.6472 - accuracy: 0.6157\n",
            "Epoch 41/500\n",
            "35/35 [==============================] - 0s 5ms/step - loss: 0.6362 - accuracy: 0.6057\n",
            "Epoch 42/500\n",
            "35/35 [==============================] - 0s 5ms/step - loss: 0.6331 - accuracy: 0.6329\n",
            "Epoch 43/500\n",
            "35/35 [==============================] - 0s 5ms/step - loss: 0.6237 - accuracy: 0.6529\n",
            "Epoch 44/500\n",
            "35/35 [==============================] - 0s 6ms/step - loss: 0.6267 - accuracy: 0.6271\n",
            "Epoch 45/500\n",
            "35/35 [==============================] - 0s 5ms/step - loss: 0.6211 - accuracy: 0.6429\n",
            "Epoch 46/500\n",
            "35/35 [==============================] - 0s 5ms/step - loss: 0.6155 - accuracy: 0.6429\n",
            "Epoch 47/500\n",
            "35/35 [==============================] - 0s 6ms/step - loss: 0.6049 - accuracy: 0.6443\n",
            "Epoch 48/500\n",
            "35/35 [==============================] - 0s 5ms/step - loss: 0.6061 - accuracy: 0.6557\n",
            "Epoch 49/500\n",
            "35/35 [==============================] - 0s 5ms/step - loss: 0.5991 - accuracy: 0.6714\n",
            "Epoch 50/500\n",
            "35/35 [==============================] - 0s 5ms/step - loss: 0.6083 - accuracy: 0.6571\n",
            "Epoch 51/500\n",
            "35/35 [==============================] - 0s 5ms/step - loss: 0.5958 - accuracy: 0.6600\n",
            "Epoch 52/500\n",
            "35/35 [==============================] - 0s 5ms/step - loss: 0.5886 - accuracy: 0.6771\n",
            "Epoch 53/500\n",
            "35/35 [==============================] - 0s 5ms/step - loss: 0.6016 - accuracy: 0.6657\n",
            "Epoch 54/500\n",
            "35/35 [==============================] - 0s 5ms/step - loss: 0.6261 - accuracy: 0.6429\n",
            "Epoch 55/500\n",
            "35/35 [==============================] - 0s 6ms/step - loss: 0.6029 - accuracy: 0.6586\n",
            "Epoch 56/500\n",
            "35/35 [==============================] - 0s 5ms/step - loss: 0.6036 - accuracy: 0.6457\n",
            "Epoch 57/500\n",
            "35/35 [==============================] - 0s 5ms/step - loss: 0.5757 - accuracy: 0.6743\n",
            "Epoch 58/500\n",
            "35/35 [==============================] - 0s 5ms/step - loss: 0.5790 - accuracy: 0.6786\n",
            "Epoch 59/500\n",
            "35/35 [==============================] - 0s 5ms/step - loss: 0.5873 - accuracy: 0.6643\n",
            "Epoch 60/500\n",
            "35/35 [==============================] - 0s 6ms/step - loss: 0.5792 - accuracy: 0.6886\n",
            "Epoch 61/500\n",
            "35/35 [==============================] - 0s 5ms/step - loss: 0.5653 - accuracy: 0.6800\n",
            "Epoch 62/500\n",
            "35/35 [==============================] - 0s 5ms/step - loss: 0.5578 - accuracy: 0.7014\n",
            "Epoch 63/500\n",
            "35/35 [==============================] - 0s 5ms/step - loss: 0.5738 - accuracy: 0.6857\n",
            "Epoch 64/500\n",
            "35/35 [==============================] - 0s 5ms/step - loss: 0.5416 - accuracy: 0.7014\n",
            "Epoch 65/500\n",
            "35/35 [==============================] - 0s 5ms/step - loss: 0.5418 - accuracy: 0.7000\n",
            "Epoch 66/500\n",
            "35/35 [==============================] - 0s 5ms/step - loss: 0.5475 - accuracy: 0.6843\n",
            "Epoch 67/500\n",
            "35/35 [==============================] - 0s 5ms/step - loss: 0.5503 - accuracy: 0.6843\n",
            "Epoch 68/500\n",
            "35/35 [==============================] - 0s 5ms/step - loss: 0.5161 - accuracy: 0.7114\n",
            "Epoch 69/500\n",
            "35/35 [==============================] - 0s 5ms/step - loss: 0.5553 - accuracy: 0.6900\n",
            "Epoch 70/500\n",
            "35/35 [==============================] - 0s 5ms/step - loss: 0.5371 - accuracy: 0.6914\n",
            "Epoch 71/500\n",
            "35/35 [==============================] - 0s 6ms/step - loss: 0.5357 - accuracy: 0.6957\n",
            "Epoch 72/500\n",
            "35/35 [==============================] - 0s 5ms/step - loss: 0.5278 - accuracy: 0.6957\n",
            "Epoch 73/500\n",
            "35/35 [==============================] - 0s 5ms/step - loss: 0.5083 - accuracy: 0.7214\n",
            "Epoch 74/500\n",
            "35/35 [==============================] - 0s 5ms/step - loss: 0.5259 - accuracy: 0.7071\n",
            "Epoch 75/500\n",
            "35/35 [==============================] - 0s 6ms/step - loss: 0.4996 - accuracy: 0.7229\n",
            "Epoch 76/500\n",
            "35/35 [==============================] - 0s 6ms/step - loss: 0.5013 - accuracy: 0.7143\n",
            "Epoch 77/500\n",
            "35/35 [==============================] - 0s 5ms/step - loss: 0.4828 - accuracy: 0.7343\n",
            "Epoch 78/500\n",
            "35/35 [==============================] - 0s 5ms/step - loss: 0.5114 - accuracy: 0.7100\n",
            "Epoch 79/500\n",
            "35/35 [==============================] - 0s 5ms/step - loss: 0.4846 - accuracy: 0.7429\n",
            "Epoch 80/500\n",
            "35/35 [==============================] - 0s 5ms/step - loss: 0.4830 - accuracy: 0.7400\n",
            "Epoch 81/500\n",
            "35/35 [==============================] - 0s 5ms/step - loss: 0.4700 - accuracy: 0.7500\n",
            "Epoch 82/500\n",
            "35/35 [==============================] - 0s 5ms/step - loss: 0.4776 - accuracy: 0.7614\n",
            "Epoch 83/500\n",
            "35/35 [==============================] - 0s 5ms/step - loss: 0.4675 - accuracy: 0.7371\n",
            "Epoch 84/500\n",
            "35/35 [==============================] - 0s 6ms/step - loss: 0.4785 - accuracy: 0.7386\n",
            "Epoch 85/500\n",
            "35/35 [==============================] - 0s 5ms/step - loss: 0.4567 - accuracy: 0.7643\n",
            "Epoch 86/500\n",
            "35/35 [==============================] - 0s 6ms/step - loss: 0.4899 - accuracy: 0.7243\n",
            "Epoch 87/500\n",
            "35/35 [==============================] - 0s 5ms/step - loss: 0.4568 - accuracy: 0.7514\n",
            "Epoch 88/500\n",
            "35/35 [==============================] - 0s 5ms/step - loss: 0.4542 - accuracy: 0.7629\n",
            "Epoch 89/500\n",
            "35/35 [==============================] - 0s 5ms/step - loss: 0.4527 - accuracy: 0.7557\n",
            "Epoch 90/500\n",
            "35/35 [==============================] - 0s 5ms/step - loss: 0.4547 - accuracy: 0.7514\n",
            "Epoch 91/500\n",
            "35/35 [==============================] - 0s 5ms/step - loss: 0.4344 - accuracy: 0.7700\n",
            "Epoch 92/500\n",
            "35/35 [==============================] - 0s 5ms/step - loss: 0.4250 - accuracy: 0.7729\n",
            "Epoch 93/500\n",
            "35/35 [==============================] - 0s 5ms/step - loss: 0.4421 - accuracy: 0.7657\n",
            "Epoch 94/500\n",
            "35/35 [==============================] - 0s 5ms/step - loss: 0.4368 - accuracy: 0.7614\n",
            "Epoch 95/500\n",
            "35/35 [==============================] - 0s 6ms/step - loss: 0.4258 - accuracy: 0.7714\n",
            "Epoch 96/500\n",
            "35/35 [==============================] - 0s 5ms/step - loss: 0.4220 - accuracy: 0.7886\n",
            "Epoch 97/500\n",
            "35/35 [==============================] - 0s 6ms/step - loss: 0.4416 - accuracy: 0.7500\n",
            "Epoch 98/500\n",
            "35/35 [==============================] - 0s 5ms/step - loss: 0.4078 - accuracy: 0.7714\n",
            "Epoch 99/500\n",
            "35/35 [==============================] - 0s 5ms/step - loss: 0.4255 - accuracy: 0.7600\n",
            "Epoch 100/500\n",
            "35/35 [==============================] - 0s 5ms/step - loss: 0.4224 - accuracy: 0.7771\n",
            "Epoch 101/500\n",
            "35/35 [==============================] - 0s 5ms/step - loss: 0.4300 - accuracy: 0.7557\n",
            "Epoch 102/500\n",
            "35/35 [==============================] - 0s 5ms/step - loss: 0.4197 - accuracy: 0.7786\n",
            "Epoch 103/500\n",
            "35/35 [==============================] - 0s 5ms/step - loss: 0.4027 - accuracy: 0.7757\n",
            "Epoch 104/500\n",
            "35/35 [==============================] - 0s 5ms/step - loss: 0.4090 - accuracy: 0.7771\n",
            "Epoch 105/500\n",
            "35/35 [==============================] - 0s 5ms/step - loss: 0.4250 - accuracy: 0.7786\n",
            "Epoch 106/500\n",
            "35/35 [==============================] - 0s 5ms/step - loss: 0.4266 - accuracy: 0.7700\n",
            "Epoch 107/500\n",
            "35/35 [==============================] - 0s 6ms/step - loss: 0.4081 - accuracy: 0.7857\n",
            "Epoch 108/500\n",
            "35/35 [==============================] - 0s 5ms/step - loss: 0.4017 - accuracy: 0.7829\n",
            "Epoch 109/500\n",
            "35/35 [==============================] - 0s 5ms/step - loss: 0.3779 - accuracy: 0.7929\n",
            "Epoch 110/500\n",
            "35/35 [==============================] - 0s 5ms/step - loss: 0.3810 - accuracy: 0.7871\n",
            "Epoch 111/500\n",
            "35/35 [==============================] - 0s 5ms/step - loss: 0.4167 - accuracy: 0.7729\n",
            "Epoch 112/500\n",
            "35/35 [==============================] - 0s 5ms/step - loss: 0.3975 - accuracy: 0.7943\n",
            "Epoch 113/500\n",
            "35/35 [==============================] - 0s 5ms/step - loss: 0.3942 - accuracy: 0.7886\n",
            "Epoch 114/500\n",
            "35/35 [==============================] - 0s 5ms/step - loss: 0.3731 - accuracy: 0.7900\n",
            "Epoch 115/500\n",
            "35/35 [==============================] - 0s 5ms/step - loss: 0.3638 - accuracy: 0.7914\n",
            "Epoch 116/500\n",
            "35/35 [==============================] - 0s 6ms/step - loss: 0.3678 - accuracy: 0.7914\n",
            "Epoch 117/500\n",
            "35/35 [==============================] - 0s 6ms/step - loss: 0.3552 - accuracy: 0.8057\n",
            "Epoch 118/500\n",
            "35/35 [==============================] - 0s 5ms/step - loss: 0.3769 - accuracy: 0.8043\n",
            "Epoch 119/500\n",
            "35/35 [==============================] - 0s 5ms/step - loss: 0.3642 - accuracy: 0.8086\n",
            "Epoch 120/500\n",
            "35/35 [==============================] - 0s 5ms/step - loss: 0.4013 - accuracy: 0.7700\n",
            "Epoch 121/500\n",
            "35/35 [==============================] - 0s 5ms/step - loss: 0.3803 - accuracy: 0.7857\n",
            "Epoch 122/500\n",
            "35/35 [==============================] - 0s 5ms/step - loss: 0.3870 - accuracy: 0.7943\n",
            "Epoch 123/500\n",
            "35/35 [==============================] - 0s 5ms/step - loss: 0.3942 - accuracy: 0.7871\n",
            "Epoch 124/500\n",
            "35/35 [==============================] - 0s 5ms/step - loss: 0.3581 - accuracy: 0.8114\n",
            "Epoch 125/500\n",
            "35/35 [==============================] - 0s 6ms/step - loss: 0.3580 - accuracy: 0.7986\n",
            "Epoch 126/500\n",
            "35/35 [==============================] - 0s 6ms/step - loss: 0.3578 - accuracy: 0.8186\n",
            "Epoch 127/500\n",
            "35/35 [==============================] - 0s 6ms/step - loss: 0.3898 - accuracy: 0.7800\n",
            "Epoch 128/500\n",
            "35/35 [==============================] - 0s 6ms/step - loss: 0.3576 - accuracy: 0.7986\n",
            "Epoch 129/500\n",
            "35/35 [==============================] - 0s 6ms/step - loss: 0.3441 - accuracy: 0.8029\n",
            "Epoch 130/500\n",
            "35/35 [==============================] - 0s 5ms/step - loss: 0.3715 - accuracy: 0.7886\n",
            "Epoch 131/500\n",
            "35/35 [==============================] - 0s 5ms/step - loss: 0.3634 - accuracy: 0.7957\n",
            "Epoch 132/500\n",
            "35/35 [==============================] - 0s 5ms/step - loss: 0.3564 - accuracy: 0.8000\n",
            "Epoch 133/500\n",
            "35/35 [==============================] - 0s 5ms/step - loss: 0.3523 - accuracy: 0.8043\n",
            "Epoch 134/500\n",
            "35/35 [==============================] - 0s 5ms/step - loss: 0.3415 - accuracy: 0.8114\n",
            "Epoch 135/500\n",
            "35/35 [==============================] - 0s 6ms/step - loss: 0.3297 - accuracy: 0.8286\n",
            "Epoch 136/500\n",
            "35/35 [==============================] - 0s 6ms/step - loss: 0.3301 - accuracy: 0.8200\n",
            "Epoch 137/500\n",
            "35/35 [==============================] - 0s 5ms/step - loss: 0.3404 - accuracy: 0.8057\n",
            "Epoch 138/500\n",
            "35/35 [==============================] - 0s 6ms/step - loss: 0.3239 - accuracy: 0.8114\n",
            "Epoch 139/500\n",
            "35/35 [==============================] - 0s 5ms/step - loss: 0.3249 - accuracy: 0.8229\n",
            "Epoch 140/500\n",
            "35/35 [==============================] - 0s 5ms/step - loss: 0.3187 - accuracy: 0.8257\n",
            "Epoch 141/500\n",
            "35/35 [==============================] - 0s 5ms/step - loss: 0.3360 - accuracy: 0.8186\n",
            "Epoch 142/500\n",
            "35/35 [==============================] - 0s 5ms/step - loss: 0.3648 - accuracy: 0.7929\n",
            "Epoch 143/500\n",
            "35/35 [==============================] - 0s 5ms/step - loss: 0.3480 - accuracy: 0.8114\n",
            "Epoch 144/500\n",
            "35/35 [==============================] - 0s 5ms/step - loss: 0.3265 - accuracy: 0.8214\n",
            "Epoch 145/500\n",
            "35/35 [==============================] - 0s 5ms/step - loss: 0.3292 - accuracy: 0.8157\n",
            "Epoch 146/500\n",
            "35/35 [==============================] - 0s 5ms/step - loss: 0.3449 - accuracy: 0.7929\n",
            "Epoch 147/500\n",
            "35/35 [==============================] - 0s 5ms/step - loss: 0.3625 - accuracy: 0.8029\n",
            "Epoch 148/500\n",
            "35/35 [==============================] - 0s 6ms/step - loss: 0.3313 - accuracy: 0.8186\n",
            "Epoch 149/500\n",
            "35/35 [==============================] - 0s 5ms/step - loss: 0.3101 - accuracy: 0.8314\n",
            "Epoch 150/500\n",
            "35/35 [==============================] - 0s 5ms/step - loss: 0.3240 - accuracy: 0.8157\n",
            "Epoch 151/500\n",
            "35/35 [==============================] - 0s 5ms/step - loss: 0.3161 - accuracy: 0.8171\n",
            "Epoch 152/500\n",
            "35/35 [==============================] - 0s 5ms/step - loss: 0.3060 - accuracy: 0.8357\n",
            "Epoch 153/500\n",
            "35/35 [==============================] - 0s 6ms/step - loss: 0.3059 - accuracy: 0.8200\n",
            "Epoch 154/500\n",
            "35/35 [==============================] - 0s 5ms/step - loss: 0.3219 - accuracy: 0.8143\n",
            "Epoch 155/500\n",
            "35/35 [==============================] - 0s 6ms/step - loss: 0.3391 - accuracy: 0.8271\n",
            "Epoch 156/500\n",
            "35/35 [==============================] - 0s 6ms/step - loss: 0.3218 - accuracy: 0.8214\n",
            "Epoch 157/500\n",
            "35/35 [==============================] - 0s 5ms/step - loss: 0.3238 - accuracy: 0.8114\n",
            "Epoch 158/500\n",
            "35/35 [==============================] - 0s 6ms/step - loss: 0.3387 - accuracy: 0.8029\n",
            "Epoch 159/500\n",
            "35/35 [==============================] - 0s 5ms/step - loss: 0.3399 - accuracy: 0.8200\n",
            "Epoch 160/500\n",
            "35/35 [==============================] - 0s 5ms/step - loss: 0.3228 - accuracy: 0.8329\n",
            "Epoch 161/500\n",
            "35/35 [==============================] - 0s 6ms/step - loss: 0.3197 - accuracy: 0.8214\n",
            "Epoch 162/500\n",
            "35/35 [==============================] - 0s 5ms/step - loss: 0.3257 - accuracy: 0.8314\n",
            "Epoch 163/500\n",
            "35/35 [==============================] - 0s 5ms/step - loss: 0.3039 - accuracy: 0.8300\n",
            "Epoch 164/500\n",
            "35/35 [==============================] - 0s 5ms/step - loss: 0.3228 - accuracy: 0.8343\n",
            "Epoch 165/500\n",
            "35/35 [==============================] - 0s 5ms/step - loss: 0.3412 - accuracy: 0.8214\n",
            "Epoch 166/500\n",
            "35/35 [==============================] - 0s 6ms/step - loss: 0.3094 - accuracy: 0.8286\n",
            "Epoch 167/500\n",
            "35/35 [==============================] - 0s 5ms/step - loss: 0.3210 - accuracy: 0.8214\n",
            "Epoch 168/500\n",
            "35/35 [==============================] - 0s 5ms/step - loss: 0.3219 - accuracy: 0.8314\n",
            "Epoch 169/500\n",
            "35/35 [==============================] - 0s 6ms/step - loss: 0.3061 - accuracy: 0.8286\n",
            "Epoch 170/500\n",
            "35/35 [==============================] - 0s 5ms/step - loss: 0.3263 - accuracy: 0.8129\n",
            "Epoch 171/500\n",
            "35/35 [==============================] - 0s 5ms/step - loss: 0.3478 - accuracy: 0.8086\n",
            "Epoch 172/500\n",
            "35/35 [==============================] - 0s 5ms/step - loss: 0.3614 - accuracy: 0.8200\n",
            "Epoch 173/500\n",
            "35/35 [==============================] - 0s 5ms/step - loss: 0.3498 - accuracy: 0.7957\n",
            "Epoch 174/500\n",
            "35/35 [==============================] - 0s 6ms/step - loss: 0.3108 - accuracy: 0.8257\n",
            "Epoch 175/500\n",
            "35/35 [==============================] - 0s 5ms/step - loss: 0.3052 - accuracy: 0.8271\n",
            "Epoch 176/500\n",
            "35/35 [==============================] - 0s 5ms/step - loss: 0.3013 - accuracy: 0.8143\n",
            "Epoch 177/500\n",
            "35/35 [==============================] - 0s 5ms/step - loss: 0.2951 - accuracy: 0.8329\n",
            "Epoch 178/500\n",
            "35/35 [==============================] - 0s 6ms/step - loss: 0.2927 - accuracy: 0.8271\n",
            "Epoch 179/500\n",
            "35/35 [==============================] - 0s 6ms/step - loss: 0.2948 - accuracy: 0.8414\n",
            "Epoch 180/500\n",
            "35/35 [==============================] - 0s 5ms/step - loss: 0.3413 - accuracy: 0.8029\n",
            "Epoch 181/500\n",
            "35/35 [==============================] - 0s 5ms/step - loss: 0.3618 - accuracy: 0.7943\n",
            "Epoch 182/500\n",
            "35/35 [==============================] - 0s 5ms/step - loss: 0.3379 - accuracy: 0.8000\n",
            "Epoch 183/500\n",
            "35/35 [==============================] - 0s 5ms/step - loss: 0.3158 - accuracy: 0.8129\n",
            "Epoch 184/500\n",
            "35/35 [==============================] - 0s 6ms/step - loss: 0.3053 - accuracy: 0.8429\n",
            "Epoch 185/500\n",
            "35/35 [==============================] - 0s 6ms/step - loss: 0.2959 - accuracy: 0.8429\n",
            "Epoch 186/500\n",
            "35/35 [==============================] - 0s 5ms/step - loss: 0.2909 - accuracy: 0.8443\n",
            "Epoch 187/500\n",
            "35/35 [==============================] - 0s 5ms/step - loss: 0.3034 - accuracy: 0.8286\n",
            "Epoch 188/500\n",
            "35/35 [==============================] - 0s 5ms/step - loss: 0.3892 - accuracy: 0.7971\n",
            "Epoch 189/500\n",
            "35/35 [==============================] - 0s 6ms/step - loss: 0.3400 - accuracy: 0.8129\n",
            "Epoch 190/500\n",
            "35/35 [==============================] - 0s 5ms/step - loss: 0.2939 - accuracy: 0.8529\n",
            "Epoch 191/500\n",
            "35/35 [==============================] - 0s 6ms/step - loss: 0.2854 - accuracy: 0.8400\n",
            "Epoch 192/500\n",
            "35/35 [==============================] - 0s 5ms/step - loss: 0.2938 - accuracy: 0.8429\n",
            "Epoch 193/500\n",
            "35/35 [==============================] - 0s 5ms/step - loss: 0.3005 - accuracy: 0.8300\n",
            "Epoch 194/500\n",
            "35/35 [==============================] - 0s 6ms/step - loss: 0.2790 - accuracy: 0.8471\n",
            "Epoch 195/500\n",
            "35/35 [==============================] - 0s 5ms/step - loss: 0.2795 - accuracy: 0.8471\n",
            "Epoch 196/500\n",
            "35/35 [==============================] - 0s 5ms/step - loss: 0.2860 - accuracy: 0.8414\n",
            "Epoch 197/500\n",
            "35/35 [==============================] - 0s 5ms/step - loss: 0.3218 - accuracy: 0.8229\n",
            "Epoch 198/500\n",
            "35/35 [==============================] - 0s 5ms/step - loss: 0.3108 - accuracy: 0.8186\n",
            "Epoch 199/500\n",
            "35/35 [==============================] - 0s 6ms/step - loss: 0.2895 - accuracy: 0.8357\n",
            "Epoch 200/500\n",
            "35/35 [==============================] - 0s 5ms/step - loss: 0.3139 - accuracy: 0.8157\n",
            "Epoch 201/500\n",
            "35/35 [==============================] - 0s 5ms/step - loss: 0.2813 - accuracy: 0.8371\n",
            "Epoch 202/500\n",
            "35/35 [==============================] - 0s 5ms/step - loss: 0.2818 - accuracy: 0.8314\n",
            "Epoch 203/500\n",
            "35/35 [==============================] - 0s 5ms/step - loss: 0.2841 - accuracy: 0.8371\n",
            "Epoch 204/500\n",
            "35/35 [==============================] - 0s 5ms/step - loss: 0.2847 - accuracy: 0.8414\n",
            "Epoch 205/500\n",
            "35/35 [==============================] - 0s 5ms/step - loss: 0.2897 - accuracy: 0.8443\n",
            "Epoch 206/500\n",
            "35/35 [==============================] - 0s 5ms/step - loss: 0.2817 - accuracy: 0.8500\n",
            "Epoch 207/500\n",
            "35/35 [==============================] - 0s 5ms/step - loss: 0.3018 - accuracy: 0.8471\n",
            "Epoch 208/500\n",
            "35/35 [==============================] - 0s 5ms/step - loss: 0.2872 - accuracy: 0.8257\n",
            "Epoch 209/500\n",
            "35/35 [==============================] - 0s 5ms/step - loss: 0.3216 - accuracy: 0.8214\n",
            "Epoch 210/500\n",
            "35/35 [==============================] - 0s 5ms/step - loss: 0.3288 - accuracy: 0.8229\n",
            "Epoch 211/500\n",
            "35/35 [==============================] - 0s 5ms/step - loss: 0.3262 - accuracy: 0.8171\n",
            "Epoch 212/500\n",
            "35/35 [==============================] - 0s 5ms/step - loss: 0.3035 - accuracy: 0.8343\n",
            "Epoch 213/500\n",
            "35/35 [==============================] - 0s 5ms/step - loss: 0.2914 - accuracy: 0.8114\n",
            "Epoch 214/500\n",
            "35/35 [==============================] - 0s 5ms/step - loss: 0.2819 - accuracy: 0.8271\n",
            "Epoch 215/500\n",
            "35/35 [==============================] - 0s 5ms/step - loss: 0.2799 - accuracy: 0.8386\n",
            "Epoch 216/500\n",
            "35/35 [==============================] - 0s 5ms/step - loss: 0.2784 - accuracy: 0.8457\n",
            "Epoch 217/500\n",
            "35/35 [==============================] - 0s 5ms/step - loss: 0.2708 - accuracy: 0.8500\n",
            "Epoch 218/500\n",
            "35/35 [==============================] - 0s 5ms/step - loss: 0.2788 - accuracy: 0.8400\n",
            "Epoch 219/500\n",
            "35/35 [==============================] - 0s 5ms/step - loss: 0.2963 - accuracy: 0.8329\n",
            "Epoch 220/500\n",
            "35/35 [==============================] - 0s 6ms/step - loss: 0.3194 - accuracy: 0.8100\n",
            "Epoch 221/500\n",
            "35/35 [==============================] - 0s 6ms/step - loss: 0.3117 - accuracy: 0.8243\n",
            "Epoch 222/500\n",
            "35/35 [==============================] - 0s 6ms/step - loss: 0.3222 - accuracy: 0.8200\n",
            "Epoch 223/500\n",
            "35/35 [==============================] - 0s 5ms/step - loss: 0.3206 - accuracy: 0.8257\n",
            "Epoch 224/500\n",
            "35/35 [==============================] - 0s 6ms/step - loss: 0.3027 - accuracy: 0.8200\n",
            "Epoch 225/500\n",
            "35/35 [==============================] - 0s 6ms/step - loss: 0.2898 - accuracy: 0.8400\n",
            "Epoch 226/500\n",
            "35/35 [==============================] - 0s 6ms/step - loss: 0.3212 - accuracy: 0.8186\n",
            "Epoch 227/500\n",
            "35/35 [==============================] - 0s 5ms/step - loss: 0.2945 - accuracy: 0.8357\n",
            "Epoch 228/500\n",
            "35/35 [==============================] - 0s 5ms/step - loss: 0.2835 - accuracy: 0.8329\n",
            "Epoch 229/500\n",
            "35/35 [==============================] - 0s 5ms/step - loss: 0.2852 - accuracy: 0.8471\n",
            "Epoch 230/500\n",
            "35/35 [==============================] - 0s 6ms/step - loss: 0.3111 - accuracy: 0.8086\n",
            "Epoch 231/500\n",
            "35/35 [==============================] - 0s 6ms/step - loss: 0.2991 - accuracy: 0.8329\n",
            "Epoch 232/500\n",
            "35/35 [==============================] - 0s 5ms/step - loss: 0.2775 - accuracy: 0.8414\n",
            "Epoch 233/500\n",
            "35/35 [==============================] - 0s 5ms/step - loss: 0.2704 - accuracy: 0.8500\n",
            "Epoch 234/500\n",
            "35/35 [==============================] - 0s 5ms/step - loss: 0.3237 - accuracy: 0.8200\n",
            "Epoch 235/500\n",
            "35/35 [==============================] - 0s 6ms/step - loss: 0.2988 - accuracy: 0.8271\n",
            "Epoch 236/500\n",
            "35/35 [==============================] - 0s 5ms/step - loss: 0.2877 - accuracy: 0.8343\n",
            "Epoch 237/500\n",
            "35/35 [==============================] - 0s 5ms/step - loss: 0.2731 - accuracy: 0.8386\n",
            "Epoch 238/500\n",
            "35/35 [==============================] - 0s 6ms/step - loss: 0.2909 - accuracy: 0.8186\n",
            "Epoch 239/500\n",
            "35/35 [==============================] - 0s 5ms/step - loss: 0.2989 - accuracy: 0.8257\n",
            "Epoch 240/500\n",
            "35/35 [==============================] - 0s 6ms/step - loss: 0.3774 - accuracy: 0.8029\n",
            "Epoch 241/500\n",
            "35/35 [==============================] - 0s 5ms/step - loss: 0.3907 - accuracy: 0.8157\n",
            "Epoch 242/500\n",
            "35/35 [==============================] - 0s 6ms/step - loss: 0.3883 - accuracy: 0.8014\n",
            "Epoch 243/500\n",
            "35/35 [==============================] - 0s 6ms/step - loss: 0.3285 - accuracy: 0.8200\n",
            "Epoch 244/500\n",
            "35/35 [==============================] - 0s 5ms/step - loss: 0.3052 - accuracy: 0.8129\n",
            "Epoch 245/500\n",
            "35/35 [==============================] - 0s 6ms/step - loss: 0.2903 - accuracy: 0.8314\n",
            "Epoch 246/500\n",
            "35/35 [==============================] - 0s 5ms/step - loss: 0.2974 - accuracy: 0.8200\n",
            "Epoch 247/500\n",
            "35/35 [==============================] - 0s 5ms/step - loss: 0.3040 - accuracy: 0.8229\n",
            "Epoch 248/500\n",
            "35/35 [==============================] - 0s 6ms/step - loss: 0.2847 - accuracy: 0.8429\n",
            "Epoch 249/500\n",
            "35/35 [==============================] - 0s 6ms/step - loss: 0.2806 - accuracy: 0.8343\n",
            "Epoch 250/500\n",
            "35/35 [==============================] - 0s 6ms/step - loss: 0.2713 - accuracy: 0.8429\n",
            "Epoch 251/500\n",
            "35/35 [==============================] - 0s 6ms/step - loss: 0.2638 - accuracy: 0.8557\n",
            "Epoch 252/500\n",
            "35/35 [==============================] - 0s 5ms/step - loss: 0.2648 - accuracy: 0.8300\n",
            "Epoch 253/500\n",
            "35/35 [==============================] - 0s 5ms/step - loss: 0.2656 - accuracy: 0.8500\n",
            "Epoch 254/500\n",
            "35/35 [==============================] - 0s 6ms/step - loss: 0.2691 - accuracy: 0.8314\n",
            "Epoch 255/500\n",
            "35/35 [==============================] - 0s 6ms/step - loss: 0.2758 - accuracy: 0.8386\n",
            "Epoch 256/500\n",
            "35/35 [==============================] - 0s 5ms/step - loss: 0.2670 - accuracy: 0.8571\n",
            "Epoch 257/500\n",
            "35/35 [==============================] - 0s 5ms/step - loss: 0.2688 - accuracy: 0.8414\n",
            "Epoch 258/500\n",
            "35/35 [==============================] - 0s 6ms/step - loss: 0.2660 - accuracy: 0.8486\n",
            "Epoch 259/500\n",
            "35/35 [==============================] - 0s 5ms/step - loss: 0.2659 - accuracy: 0.8314\n",
            "Epoch 260/500\n",
            "35/35 [==============================] - 0s 6ms/step - loss: 0.2680 - accuracy: 0.8614\n",
            "Epoch 261/500\n",
            "35/35 [==============================] - 0s 6ms/step - loss: 0.2587 - accuracy: 0.8471\n",
            "Epoch 262/500\n",
            "35/35 [==============================] - 0s 5ms/step - loss: 0.2642 - accuracy: 0.8471\n",
            "Epoch 263/500\n",
            "35/35 [==============================] - 0s 5ms/step - loss: 0.2691 - accuracy: 0.8400\n",
            "Epoch 264/500\n",
            "35/35 [==============================] - 0s 6ms/step - loss: 0.2854 - accuracy: 0.8300\n",
            "Epoch 265/500\n",
            "35/35 [==============================] - 0s 6ms/step - loss: 0.2848 - accuracy: 0.8386\n",
            "Epoch 266/500\n",
            "35/35 [==============================] - 0s 6ms/step - loss: 0.2985 - accuracy: 0.8271\n",
            "Epoch 267/500\n",
            "35/35 [==============================] - 0s 5ms/step - loss: 0.2955 - accuracy: 0.8371\n",
            "Epoch 268/500\n",
            "35/35 [==============================] - 0s 5ms/step - loss: 0.3049 - accuracy: 0.8371\n",
            "Epoch 269/500\n",
            "35/35 [==============================] - 0s 5ms/step - loss: 0.3561 - accuracy: 0.8071\n",
            "Epoch 270/500\n",
            "35/35 [==============================] - 0s 6ms/step - loss: 0.2966 - accuracy: 0.8257\n",
            "Epoch 271/500\n",
            "35/35 [==============================] - 0s 5ms/step - loss: 0.2795 - accuracy: 0.8429\n",
            "Epoch 272/500\n",
            "35/35 [==============================] - 0s 5ms/step - loss: 0.2798 - accuracy: 0.8557\n",
            "Epoch 273/500\n",
            "35/35 [==============================] - 0s 6ms/step - loss: 0.2702 - accuracy: 0.8414\n",
            "Epoch 274/500\n",
            "35/35 [==============================] - 0s 5ms/step - loss: 0.2681 - accuracy: 0.8486\n",
            "Epoch 275/500\n",
            "35/35 [==============================] - 0s 6ms/step - loss: 0.3075 - accuracy: 0.8171\n",
            "Epoch 276/500\n",
            "35/35 [==============================] - 0s 5ms/step - loss: 0.3201 - accuracy: 0.8300\n",
            "Epoch 277/500\n",
            "35/35 [==============================] - 0s 5ms/step - loss: 0.3570 - accuracy: 0.8100\n",
            "Epoch 278/500\n",
            "35/35 [==============================] - 0s 5ms/step - loss: 0.3700 - accuracy: 0.7929\n",
            "Epoch 279/500\n",
            "35/35 [==============================] - 0s 6ms/step - loss: 0.2853 - accuracy: 0.8371\n",
            "Epoch 280/500\n",
            "35/35 [==============================] - 0s 5ms/step - loss: 0.2689 - accuracy: 0.8529\n",
            "Epoch 281/500\n",
            "35/35 [==============================] - 0s 5ms/step - loss: 0.2694 - accuracy: 0.8443\n",
            "Epoch 282/500\n",
            "35/35 [==============================] - 0s 5ms/step - loss: 0.2594 - accuracy: 0.8529\n",
            "Epoch 283/500\n",
            "35/35 [==============================] - 0s 6ms/step - loss: 0.2732 - accuracy: 0.8400\n",
            "Epoch 284/500\n",
            "35/35 [==============================] - 0s 5ms/step - loss: 0.2729 - accuracy: 0.8486\n",
            "Epoch 285/500\n",
            "35/35 [==============================] - 0s 6ms/step - loss: 0.2844 - accuracy: 0.8300\n",
            "Epoch 286/500\n",
            "35/35 [==============================] - 0s 5ms/step - loss: 0.2896 - accuracy: 0.8414\n",
            "Epoch 287/500\n",
            "35/35 [==============================] - 0s 5ms/step - loss: 0.3220 - accuracy: 0.8157\n",
            "Epoch 288/500\n",
            "35/35 [==============================] - 0s 5ms/step - loss: 0.2840 - accuracy: 0.8357\n",
            "Epoch 289/500\n",
            "35/35 [==============================] - 0s 5ms/step - loss: 0.2771 - accuracy: 0.8429\n",
            "Epoch 290/500\n",
            "35/35 [==============================] - 0s 6ms/step - loss: 0.2655 - accuracy: 0.8486\n",
            "Epoch 291/500\n",
            "35/35 [==============================] - 0s 5ms/step - loss: 0.2621 - accuracy: 0.8500\n",
            "Epoch 292/500\n",
            "35/35 [==============================] - 0s 5ms/step - loss: 0.2603 - accuracy: 0.8400\n",
            "Epoch 293/500\n",
            "35/35 [==============================] - 0s 5ms/step - loss: 0.2728 - accuracy: 0.8514\n",
            "Epoch 294/500\n",
            "35/35 [==============================] - 0s 5ms/step - loss: 0.2835 - accuracy: 0.8186\n",
            "Epoch 295/500\n",
            "35/35 [==============================] - 0s 6ms/step - loss: 0.2904 - accuracy: 0.8414\n",
            "Epoch 296/500\n",
            "35/35 [==============================] - 0s 5ms/step - loss: 0.2839 - accuracy: 0.8329\n",
            "Epoch 297/500\n",
            "35/35 [==============================] - 0s 6ms/step - loss: 0.2946 - accuracy: 0.8429\n",
            "Epoch 298/500\n",
            "35/35 [==============================] - 0s 6ms/step - loss: 0.2856 - accuracy: 0.8471\n",
            "Epoch 299/500\n",
            "35/35 [==============================] - 0s 5ms/step - loss: 0.2947 - accuracy: 0.8229\n",
            "Epoch 300/500\n",
            "35/35 [==============================] - 0s 6ms/step - loss: 0.3739 - accuracy: 0.7914\n",
            "Epoch 301/500\n",
            "35/35 [==============================] - 0s 5ms/step - loss: 0.2900 - accuracy: 0.8414\n",
            "Epoch 302/500\n",
            "35/35 [==============================] - 0s 5ms/step - loss: 0.2857 - accuracy: 0.8514\n",
            "Epoch 303/500\n",
            "35/35 [==============================] - 0s 5ms/step - loss: 0.2753 - accuracy: 0.8414\n",
            "Epoch 304/500\n",
            "35/35 [==============================] - 0s 6ms/step - loss: 0.2715 - accuracy: 0.8371\n",
            "Epoch 305/500\n",
            "35/35 [==============================] - 0s 6ms/step - loss: 0.2850 - accuracy: 0.8400\n",
            "Epoch 306/500\n",
            "35/35 [==============================] - 0s 6ms/step - loss: 0.2780 - accuracy: 0.8329\n",
            "Epoch 307/500\n",
            "35/35 [==============================] - 0s 5ms/step - loss: 0.2633 - accuracy: 0.8500\n",
            "Epoch 308/500\n",
            "35/35 [==============================] - 0s 6ms/step - loss: 0.2746 - accuracy: 0.8500\n",
            "Epoch 309/500\n",
            "35/35 [==============================] - 0s 6ms/step - loss: 0.2800 - accuracy: 0.8443\n",
            "Epoch 310/500\n",
            "35/35 [==============================] - 0s 6ms/step - loss: 0.3542 - accuracy: 0.8071\n",
            "Epoch 311/500\n",
            "35/35 [==============================] - 0s 5ms/step - loss: 0.2951 - accuracy: 0.8400\n",
            "Epoch 312/500\n",
            "35/35 [==============================] - 0s 5ms/step - loss: 0.2719 - accuracy: 0.8414\n",
            "Epoch 313/500\n",
            "35/35 [==============================] - 0s 5ms/step - loss: 0.2665 - accuracy: 0.8500\n",
            "Epoch 314/500\n",
            "35/35 [==============================] - 0s 6ms/step - loss: 0.2680 - accuracy: 0.8500\n",
            "Epoch 315/500\n",
            "35/35 [==============================] - 0s 6ms/step - loss: 0.2631 - accuracy: 0.8600\n",
            "Epoch 316/500\n",
            "35/35 [==============================] - 0s 6ms/step - loss: 0.2645 - accuracy: 0.8429\n",
            "Epoch 317/500\n",
            "35/35 [==============================] - 0s 6ms/step - loss: 0.2783 - accuracy: 0.8400\n",
            "Epoch 318/500\n",
            "35/35 [==============================] - 0s 6ms/step - loss: 0.2610 - accuracy: 0.8586\n",
            "Epoch 319/500\n",
            "35/35 [==============================] - 0s 5ms/step - loss: 0.2596 - accuracy: 0.8471\n",
            "Epoch 320/500\n",
            "35/35 [==============================] - 0s 6ms/step - loss: 0.2575 - accuracy: 0.8514\n",
            "Epoch 321/500\n",
            "35/35 [==============================] - 0s 6ms/step - loss: 0.2649 - accuracy: 0.8457\n",
            "Epoch 322/500\n",
            "35/35 [==============================] - 0s 6ms/step - loss: 0.2698 - accuracy: 0.8471\n",
            "Epoch 323/500\n",
            "35/35 [==============================] - 0s 5ms/step - loss: 0.2624 - accuracy: 0.8429\n",
            "Epoch 324/500\n",
            "35/35 [==============================] - 0s 6ms/step - loss: 0.2720 - accuracy: 0.8414\n",
            "Epoch 325/500\n",
            "35/35 [==============================] - 0s 6ms/step - loss: 0.2674 - accuracy: 0.8457\n",
            "Epoch 326/500\n",
            "35/35 [==============================] - 0s 6ms/step - loss: 0.2654 - accuracy: 0.8629\n",
            "Epoch 327/500\n",
            "35/35 [==============================] - 0s 5ms/step - loss: 0.2723 - accuracy: 0.8429\n",
            "Epoch 328/500\n",
            "35/35 [==============================] - 0s 5ms/step - loss: 0.3018 - accuracy: 0.8300\n",
            "Epoch 329/500\n",
            "35/35 [==============================] - 0s 6ms/step - loss: 0.3007 - accuracy: 0.8286\n",
            "Epoch 330/500\n",
            "35/35 [==============================] - 0s 5ms/step - loss: 0.3345 - accuracy: 0.8157\n",
            "Epoch 331/500\n",
            "35/35 [==============================] - 0s 6ms/step - loss: 0.3769 - accuracy: 0.8129\n",
            "Epoch 332/500\n",
            "35/35 [==============================] - 0s 6ms/step - loss: 0.3635 - accuracy: 0.8057\n",
            "Epoch 333/500\n",
            "35/35 [==============================] - 0s 6ms/step - loss: 0.3156 - accuracy: 0.8100\n",
            "Epoch 334/500\n",
            "35/35 [==============================] - 0s 6ms/step - loss: 0.2760 - accuracy: 0.8400\n",
            "Epoch 335/500\n",
            "35/35 [==============================] - 0s 6ms/step - loss: 0.2720 - accuracy: 0.8386\n",
            "Epoch 336/500\n",
            "35/35 [==============================] - 0s 6ms/step - loss: 0.2630 - accuracy: 0.8529\n",
            "Epoch 337/500\n",
            "35/35 [==============================] - 0s 6ms/step - loss: 0.2579 - accuracy: 0.8529\n",
            "Epoch 338/500\n",
            "35/35 [==============================] - 0s 6ms/step - loss: 0.2612 - accuracy: 0.8557\n",
            "Epoch 339/500\n",
            "35/35 [==============================] - 0s 6ms/step - loss: 0.2597 - accuracy: 0.8429\n",
            "Epoch 340/500\n",
            "35/35 [==============================] - 0s 5ms/step - loss: 0.2806 - accuracy: 0.8386\n",
            "Epoch 341/500\n",
            "35/35 [==============================] - 0s 6ms/step - loss: 0.2666 - accuracy: 0.8514\n",
            "Epoch 342/500\n",
            "35/35 [==============================] - 0s 6ms/step - loss: 0.2770 - accuracy: 0.8329\n",
            "Epoch 343/500\n",
            "35/35 [==============================] - 0s 5ms/step - loss: 0.2986 - accuracy: 0.8314\n",
            "Epoch 344/500\n",
            "35/35 [==============================] - 0s 6ms/step - loss: 0.2798 - accuracy: 0.8386\n",
            "Epoch 345/500\n",
            "35/35 [==============================] - 0s 5ms/step - loss: 0.2726 - accuracy: 0.8429\n",
            "Epoch 346/500\n",
            "35/35 [==============================] - 0s 5ms/step - loss: 0.2672 - accuracy: 0.8371\n",
            "Epoch 347/500\n",
            "35/35 [==============================] - 0s 5ms/step - loss: 0.2720 - accuracy: 0.8443\n",
            "Epoch 348/500\n",
            "35/35 [==============================] - 0s 6ms/step - loss: 0.2687 - accuracy: 0.8443\n",
            "Epoch 349/500\n",
            "35/35 [==============================] - 0s 6ms/step - loss: 0.2558 - accuracy: 0.8486\n",
            "Epoch 350/500\n",
            "35/35 [==============================] - 0s 5ms/step - loss: 0.2744 - accuracy: 0.8329\n",
            "Epoch 351/500\n",
            "35/35 [==============================] - 0s 6ms/step - loss: 0.2585 - accuracy: 0.8429\n",
            "Epoch 352/500\n",
            "35/35 [==============================] - 0s 6ms/step - loss: 0.2782 - accuracy: 0.8471\n",
            "Epoch 353/500\n",
            "35/35 [==============================] - 0s 5ms/step - loss: 0.2704 - accuracy: 0.8529\n",
            "Epoch 354/500\n",
            "35/35 [==============================] - 0s 6ms/step - loss: 0.2631 - accuracy: 0.8457\n",
            "Epoch 355/500\n",
            "35/35 [==============================] - 0s 6ms/step - loss: 0.2541 - accuracy: 0.8443\n",
            "Epoch 356/500\n",
            "35/35 [==============================] - 0s 6ms/step - loss: 0.2608 - accuracy: 0.8500\n",
            "Epoch 357/500\n",
            "35/35 [==============================] - 0s 6ms/step - loss: 0.2527 - accuracy: 0.8586\n",
            "Epoch 358/500\n",
            "35/35 [==============================] - 0s 6ms/step - loss: 0.2898 - accuracy: 0.8286\n",
            "Epoch 359/500\n",
            "35/35 [==============================] - 0s 6ms/step - loss: 0.3672 - accuracy: 0.8186\n",
            "Epoch 360/500\n",
            "35/35 [==============================] - 0s 6ms/step - loss: 0.4525 - accuracy: 0.7771\n",
            "Epoch 361/500\n",
            "35/35 [==============================] - 0s 6ms/step - loss: 0.3958 - accuracy: 0.7929\n",
            "Epoch 362/500\n",
            "35/35 [==============================] - 0s 5ms/step - loss: 0.3293 - accuracy: 0.8100\n",
            "Epoch 363/500\n",
            "35/35 [==============================] - 0s 5ms/step - loss: 0.2728 - accuracy: 0.8400\n",
            "Epoch 364/500\n",
            "35/35 [==============================] - 0s 6ms/step - loss: 0.2666 - accuracy: 0.8514\n",
            "Epoch 365/500\n",
            "35/35 [==============================] - 0s 5ms/step - loss: 0.2698 - accuracy: 0.8414\n",
            "Epoch 366/500\n",
            "35/35 [==============================] - 0s 5ms/step - loss: 0.2665 - accuracy: 0.8529\n",
            "Epoch 367/500\n",
            "35/35 [==============================] - 0s 5ms/step - loss: 0.2552 - accuracy: 0.8529\n",
            "Epoch 368/500\n",
            "35/35 [==============================] - 0s 5ms/step - loss: 0.2620 - accuracy: 0.8529\n",
            "Epoch 369/500\n",
            "35/35 [==============================] - 0s 6ms/step - loss: 0.2562 - accuracy: 0.8486\n",
            "Epoch 370/500\n",
            "35/35 [==============================] - 0s 6ms/step - loss: 0.2707 - accuracy: 0.8400\n",
            "Epoch 371/500\n",
            "35/35 [==============================] - 0s 6ms/step - loss: 0.2744 - accuracy: 0.8329\n",
            "Epoch 372/500\n",
            "35/35 [==============================] - 0s 6ms/step - loss: 0.3097 - accuracy: 0.8271\n",
            "Epoch 373/500\n",
            "35/35 [==============================] - 0s 6ms/step - loss: 0.3118 - accuracy: 0.8300\n",
            "Epoch 374/500\n",
            "35/35 [==============================] - 0s 6ms/step - loss: 0.2642 - accuracy: 0.8471\n",
            "Epoch 375/500\n",
            "35/35 [==============================] - 0s 6ms/step - loss: 0.2711 - accuracy: 0.8486\n",
            "Epoch 376/500\n",
            "35/35 [==============================] - 0s 6ms/step - loss: 0.2771 - accuracy: 0.8500\n",
            "Epoch 377/500\n",
            "35/35 [==============================] - 0s 5ms/step - loss: 0.2608 - accuracy: 0.8543\n",
            "Epoch 378/500\n",
            "35/35 [==============================] - 0s 6ms/step - loss: 0.2526 - accuracy: 0.8571\n",
            "Epoch 379/500\n",
            "35/35 [==============================] - 0s 6ms/step - loss: 0.2565 - accuracy: 0.8471\n",
            "Epoch 380/500\n",
            "35/35 [==============================] - 0s 6ms/step - loss: 0.2603 - accuracy: 0.8357\n",
            "Epoch 381/500\n",
            "35/35 [==============================] - 0s 6ms/step - loss: 0.2702 - accuracy: 0.8429\n",
            "Epoch 382/500\n",
            "35/35 [==============================] - 0s 6ms/step - loss: 0.2871 - accuracy: 0.8400\n",
            "Epoch 383/500\n",
            "35/35 [==============================] - 0s 7ms/step - loss: 0.2805 - accuracy: 0.8429\n",
            "Epoch 384/500\n",
            "35/35 [==============================] - 0s 6ms/step - loss: 0.2646 - accuracy: 0.8514\n",
            "Epoch 385/500\n",
            "35/35 [==============================] - 0s 6ms/step - loss: 0.2624 - accuracy: 0.8471\n",
            "Epoch 386/500\n",
            "35/35 [==============================] - 0s 6ms/step - loss: 0.2572 - accuracy: 0.8529\n",
            "Epoch 387/500\n",
            "35/35 [==============================] - 0s 6ms/step - loss: 0.2789 - accuracy: 0.8429\n",
            "Epoch 388/500\n",
            "35/35 [==============================] - 0s 6ms/step - loss: 0.2845 - accuracy: 0.8486\n",
            "Epoch 389/500\n",
            "35/35 [==============================] - 0s 6ms/step - loss: 0.2514 - accuracy: 0.8600\n",
            "Epoch 390/500\n",
            "35/35 [==============================] - 0s 6ms/step - loss: 0.2485 - accuracy: 0.8600\n",
            "Epoch 391/500\n",
            "35/35 [==============================] - 0s 6ms/step - loss: 0.2569 - accuracy: 0.8371\n",
            "Epoch 392/500\n",
            "35/35 [==============================] - 0s 6ms/step - loss: 0.2539 - accuracy: 0.8557\n",
            "Epoch 393/500\n",
            "35/35 [==============================] - 0s 6ms/step - loss: 0.2513 - accuracy: 0.8514\n",
            "Epoch 394/500\n",
            "35/35 [==============================] - 0s 6ms/step - loss: 0.2577 - accuracy: 0.8471\n",
            "Epoch 395/500\n",
            "35/35 [==============================] - 0s 6ms/step - loss: 0.2800 - accuracy: 0.8343\n",
            "Epoch 396/500\n",
            "35/35 [==============================] - 0s 6ms/step - loss: 0.2613 - accuracy: 0.8586\n",
            "Epoch 397/500\n",
            "35/35 [==============================] - 0s 6ms/step - loss: 0.2613 - accuracy: 0.8529\n",
            "Epoch 398/500\n",
            "35/35 [==============================] - 0s 6ms/step - loss: 0.2724 - accuracy: 0.8314\n",
            "Epoch 399/500\n",
            "35/35 [==============================] - 0s 6ms/step - loss: 0.2692 - accuracy: 0.8429\n",
            "Epoch 400/500\n",
            "35/35 [==============================] - 0s 6ms/step - loss: 0.2792 - accuracy: 0.8414\n",
            "Epoch 401/500\n",
            "35/35 [==============================] - 0s 5ms/step - loss: 0.3163 - accuracy: 0.8229\n",
            "Epoch 402/500\n",
            "35/35 [==============================] - 0s 5ms/step - loss: 0.3065 - accuracy: 0.8371\n",
            "Epoch 403/500\n",
            "35/35 [==============================] - 0s 7ms/step - loss: 0.3350 - accuracy: 0.8271\n",
            "Epoch 404/500\n",
            "35/35 [==============================] - 0s 6ms/step - loss: 0.3053 - accuracy: 0.8300\n",
            "Epoch 405/500\n",
            "35/35 [==============================] - 0s 6ms/step - loss: 0.3032 - accuracy: 0.8286\n",
            "Epoch 406/500\n",
            "35/35 [==============================] - 0s 6ms/step - loss: 0.2904 - accuracy: 0.8257\n",
            "Epoch 407/500\n",
            "35/35 [==============================] - 0s 6ms/step - loss: 0.2630 - accuracy: 0.8557\n",
            "Epoch 408/500\n",
            "35/35 [==============================] - 0s 6ms/step - loss: 0.2656 - accuracy: 0.8557\n",
            "Epoch 409/500\n",
            "35/35 [==============================] - 0s 6ms/step - loss: 0.2682 - accuracy: 0.8571\n",
            "Epoch 410/500\n",
            "35/35 [==============================] - 0s 6ms/step - loss: 0.2575 - accuracy: 0.8486\n",
            "Epoch 411/500\n",
            "35/35 [==============================] - 0s 6ms/step - loss: 0.2542 - accuracy: 0.8600\n",
            "Epoch 412/500\n",
            "35/35 [==============================] - 0s 6ms/step - loss: 0.2491 - accuracy: 0.8571\n",
            "Epoch 413/500\n",
            "35/35 [==============================] - 0s 6ms/step - loss: 0.2497 - accuracy: 0.8586\n",
            "Epoch 414/500\n",
            "35/35 [==============================] - 0s 5ms/step - loss: 0.2465 - accuracy: 0.8629\n",
            "Epoch 415/500\n",
            "35/35 [==============================] - 0s 6ms/step - loss: 0.2405 - accuracy: 0.8643\n",
            "Epoch 416/500\n",
            "35/35 [==============================] - 0s 6ms/step - loss: 0.2550 - accuracy: 0.8629\n",
            "Epoch 417/500\n",
            "35/35 [==============================] - 0s 6ms/step - loss: 0.2604 - accuracy: 0.8486\n",
            "Epoch 418/500\n",
            "35/35 [==============================] - 0s 6ms/step - loss: 0.2683 - accuracy: 0.8429\n",
            "Epoch 419/500\n",
            "35/35 [==============================] - 0s 6ms/step - loss: 0.2525 - accuracy: 0.8457\n",
            "Epoch 420/500\n",
            "35/35 [==============================] - 0s 6ms/step - loss: 0.2621 - accuracy: 0.8429\n",
            "Epoch 421/500\n",
            "35/35 [==============================] - 0s 6ms/step - loss: 0.2671 - accuracy: 0.8557\n",
            "Epoch 422/500\n",
            "35/35 [==============================] - 0s 6ms/step - loss: 0.2624 - accuracy: 0.8614\n",
            "Epoch 423/500\n",
            "35/35 [==============================] - 0s 6ms/step - loss: 0.2531 - accuracy: 0.8557\n",
            "Epoch 424/500\n",
            "35/35 [==============================] - 0s 6ms/step - loss: 0.2485 - accuracy: 0.8614\n",
            "Epoch 425/500\n",
            "35/35 [==============================] - 0s 6ms/step - loss: 0.2592 - accuracy: 0.8529\n",
            "Epoch 426/500\n",
            "35/35 [==============================] - 0s 6ms/step - loss: 0.2641 - accuracy: 0.8500\n",
            "Epoch 427/500\n",
            "35/35 [==============================] - 0s 6ms/step - loss: 0.2537 - accuracy: 0.8543\n",
            "Epoch 428/500\n",
            "35/35 [==============================] - 0s 6ms/step - loss: 0.2586 - accuracy: 0.8529\n",
            "Epoch 429/500\n",
            "35/35 [==============================] - 0s 6ms/step - loss: 0.2540 - accuracy: 0.8614\n",
            "Epoch 430/500\n",
            "35/35 [==============================] - 0s 6ms/step - loss: 0.2638 - accuracy: 0.8457\n",
            "Epoch 431/500\n",
            "35/35 [==============================] - 0s 6ms/step - loss: 0.2830 - accuracy: 0.8443\n",
            "Epoch 432/500\n",
            "35/35 [==============================] - 0s 6ms/step - loss: 0.3179 - accuracy: 0.8286\n",
            "Epoch 433/500\n",
            "35/35 [==============================] - 0s 6ms/step - loss: 0.3700 - accuracy: 0.8271\n",
            "Epoch 434/500\n",
            "35/35 [==============================] - 0s 6ms/step - loss: 0.3898 - accuracy: 0.7871\n",
            "Epoch 435/500\n",
            "35/35 [==============================] - 0s 6ms/step - loss: 0.3001 - accuracy: 0.8357\n",
            "Epoch 436/500\n",
            "35/35 [==============================] - 0s 6ms/step - loss: 0.2814 - accuracy: 0.8471\n",
            "Epoch 437/500\n",
            "35/35 [==============================] - 0s 6ms/step - loss: 0.2683 - accuracy: 0.8386\n",
            "Epoch 438/500\n",
            "35/35 [==============================] - 0s 6ms/step - loss: 0.2671 - accuracy: 0.8543\n",
            "Epoch 439/500\n",
            "35/35 [==============================] - 0s 6ms/step - loss: 0.2598 - accuracy: 0.8500\n",
            "Epoch 440/500\n",
            "35/35 [==============================] - 0s 6ms/step - loss: 0.2839 - accuracy: 0.8329\n",
            "Epoch 441/500\n",
            "35/35 [==============================] - 0s 6ms/step - loss: 0.2877 - accuracy: 0.8271\n",
            "Epoch 442/500\n",
            "35/35 [==============================] - 0s 6ms/step - loss: 0.2730 - accuracy: 0.8514\n",
            "Epoch 443/500\n",
            "35/35 [==============================] - 0s 6ms/step - loss: 0.2638 - accuracy: 0.8500\n",
            "Epoch 444/500\n",
            "35/35 [==============================] - 0s 6ms/step - loss: 0.2540 - accuracy: 0.8471\n",
            "Epoch 445/500\n",
            "35/35 [==============================] - 0s 6ms/step - loss: 0.2545 - accuracy: 0.8486\n",
            "Epoch 446/500\n",
            "35/35 [==============================] - 0s 6ms/step - loss: 0.2560 - accuracy: 0.8357\n",
            "Epoch 447/500\n",
            "35/35 [==============================] - 0s 6ms/step - loss: 0.2857 - accuracy: 0.8429\n",
            "Epoch 448/500\n",
            "35/35 [==============================] - 0s 6ms/step - loss: 0.2768 - accuracy: 0.8329\n",
            "Epoch 449/500\n",
            "35/35 [==============================] - 0s 6ms/step - loss: 0.2721 - accuracy: 0.8500\n",
            "Epoch 450/500\n",
            "35/35 [==============================] - 0s 6ms/step - loss: 0.2632 - accuracy: 0.8443\n",
            "Epoch 451/500\n",
            "35/35 [==============================] - 0s 6ms/step - loss: 0.2578 - accuracy: 0.8529\n",
            "Epoch 452/500\n",
            "35/35 [==============================] - 0s 6ms/step - loss: 0.2613 - accuracy: 0.8571\n",
            "Epoch 453/500\n",
            "35/35 [==============================] - 0s 6ms/step - loss: 0.2504 - accuracy: 0.8514\n",
            "Epoch 454/500\n",
            "35/35 [==============================] - 0s 6ms/step - loss: 0.2538 - accuracy: 0.8571\n",
            "Epoch 455/500\n",
            "35/35 [==============================] - 0s 6ms/step - loss: 0.2560 - accuracy: 0.8671\n",
            "Epoch 456/500\n",
            "35/35 [==============================] - 0s 6ms/step - loss: 0.2460 - accuracy: 0.8614\n",
            "Epoch 457/500\n",
            "35/35 [==============================] - 0s 6ms/step - loss: 0.2510 - accuracy: 0.8471\n",
            "Epoch 458/500\n",
            "35/35 [==============================] - 0s 7ms/step - loss: 0.2483 - accuracy: 0.8543\n",
            "Epoch 459/500\n",
            "35/35 [==============================] - 0s 6ms/step - loss: 0.2620 - accuracy: 0.8457\n",
            "Epoch 460/500\n",
            "35/35 [==============================] - 0s 6ms/step - loss: 0.3633 - accuracy: 0.8057\n",
            "Epoch 461/500\n",
            "35/35 [==============================] - 0s 6ms/step - loss: 0.4463 - accuracy: 0.7943\n",
            "Epoch 462/500\n",
            "35/35 [==============================] - 0s 6ms/step - loss: 0.4124 - accuracy: 0.7743\n",
            "Epoch 463/500\n",
            "35/35 [==============================] - 0s 7ms/step - loss: 0.3299 - accuracy: 0.8057\n",
            "Epoch 464/500\n",
            "35/35 [==============================] - 0s 6ms/step - loss: 0.3030 - accuracy: 0.8314\n",
            "Epoch 465/500\n",
            "35/35 [==============================] - 0s 6ms/step - loss: 0.2739 - accuracy: 0.8514\n",
            "Epoch 466/500\n",
            "35/35 [==============================] - 0s 6ms/step - loss: 0.2595 - accuracy: 0.8543\n",
            "Epoch 467/500\n",
            "35/35 [==============================] - 0s 6ms/step - loss: 0.2665 - accuracy: 0.8529\n",
            "Epoch 468/500\n",
            "35/35 [==============================] - 0s 5ms/step - loss: 0.2569 - accuracy: 0.8443\n",
            "Epoch 469/500\n",
            "35/35 [==============================] - 0s 6ms/step - loss: 0.2562 - accuracy: 0.8557\n",
            "Epoch 470/500\n",
            "35/35 [==============================] - 0s 6ms/step - loss: 0.2592 - accuracy: 0.8457\n",
            "Epoch 471/500\n",
            "35/35 [==============================] - 0s 6ms/step - loss: 0.2481 - accuracy: 0.8529\n",
            "Epoch 472/500\n",
            "35/35 [==============================] - 0s 7ms/step - loss: 0.2518 - accuracy: 0.8443\n",
            "Epoch 473/500\n",
            "35/35 [==============================] - 0s 6ms/step - loss: 0.2459 - accuracy: 0.8557\n",
            "Epoch 474/500\n",
            "35/35 [==============================] - 0s 6ms/step - loss: 0.2523 - accuracy: 0.8471\n",
            "Epoch 475/500\n",
            "35/35 [==============================] - 0s 6ms/step - loss: 0.2721 - accuracy: 0.8500\n",
            "Epoch 476/500\n",
            "35/35 [==============================] - 0s 7ms/step - loss: 0.2772 - accuracy: 0.8400\n",
            "Epoch 477/500\n",
            "35/35 [==============================] - 0s 6ms/step - loss: 0.2658 - accuracy: 0.8429\n",
            "Epoch 478/500\n",
            "35/35 [==============================] - 0s 7ms/step - loss: 0.3123 - accuracy: 0.8357\n",
            "Epoch 479/500\n",
            "35/35 [==============================] - 0s 6ms/step - loss: 0.3289 - accuracy: 0.8457\n",
            "Epoch 480/500\n",
            "35/35 [==============================] - 0s 6ms/step - loss: 0.3038 - accuracy: 0.8357\n",
            "Epoch 481/500\n",
            "35/35 [==============================] - 0s 6ms/step - loss: 0.3021 - accuracy: 0.8429\n",
            "Epoch 482/500\n",
            "35/35 [==============================] - 0s 6ms/step - loss: 0.3270 - accuracy: 0.8243\n",
            "Epoch 483/500\n",
            "35/35 [==============================] - 0s 6ms/step - loss: 0.3115 - accuracy: 0.8314\n",
            "Epoch 484/500\n",
            "35/35 [==============================] - 0s 6ms/step - loss: 0.3321 - accuracy: 0.8329\n",
            "Epoch 485/500\n",
            "35/35 [==============================] - 0s 6ms/step - loss: 0.2766 - accuracy: 0.8514\n",
            "Epoch 486/500\n",
            "35/35 [==============================] - 0s 6ms/step - loss: 0.2654 - accuracy: 0.8457\n",
            "Epoch 487/500\n",
            "35/35 [==============================] - 0s 6ms/step - loss: 0.2666 - accuracy: 0.8414\n",
            "Epoch 488/500\n",
            "35/35 [==============================] - 0s 6ms/step - loss: 0.2883 - accuracy: 0.8329\n",
            "Epoch 489/500\n",
            "35/35 [==============================] - 0s 6ms/step - loss: 0.2750 - accuracy: 0.8471\n",
            "Epoch 490/500\n",
            "35/35 [==============================] - 0s 6ms/step - loss: 0.2584 - accuracy: 0.8543\n",
            "Epoch 491/500\n",
            "35/35 [==============================] - 0s 6ms/step - loss: 0.2534 - accuracy: 0.8657\n",
            "Epoch 492/500\n",
            "35/35 [==============================] - 0s 6ms/step - loss: 0.2549 - accuracy: 0.8557\n",
            "Epoch 493/500\n",
            "35/35 [==============================] - 0s 6ms/step - loss: 0.2781 - accuracy: 0.8500\n",
            "Epoch 494/500\n",
            "35/35 [==============================] - 0s 6ms/step - loss: 0.2751 - accuracy: 0.8329\n",
            "Epoch 495/500\n",
            "35/35 [==============================] - 0s 6ms/step - loss: 0.2541 - accuracy: 0.8529\n",
            "Epoch 496/500\n",
            "35/35 [==============================] - 0s 6ms/step - loss: 0.2517 - accuracy: 0.8414\n",
            "Epoch 497/500\n",
            "35/35 [==============================] - 0s 6ms/step - loss: 0.2511 - accuracy: 0.8614\n",
            "Epoch 498/500\n",
            "35/35 [==============================] - 0s 7ms/step - loss: 0.2851 - accuracy: 0.8386\n",
            "Epoch 499/500\n",
            "35/35 [==============================] - 0s 6ms/step - loss: 0.2531 - accuracy: 0.8571\n",
            "Epoch 500/500\n",
            "35/35 [==============================] - 0s 6ms/step - loss: 0.2985 - accuracy: 0.8443\n"
          ]
        },
        {
          "output_type": "execute_result",
          "data": {
            "text/plain": [
              "<keras.callbacks.History at 0x7fd9d541f3d0>"
            ]
          },
          "metadata": {},
          "execution_count": 205
        }
      ]
    },
    {
      "cell_type": "code",
      "source": [
        "from sklearn.metrics import accuracy_score, confusion_matrix\n",
        "y_pred = model.predict(x_tst)\n",
        "y_tst_ = np.argmax(y_tst, axis=1)\n",
        "print(accuracy_score(y_pred, y_tst_))"
      ],
      "metadata": {
        "colab": {
          "base_uri": "https://localhost:8080/"
        },
        "id": "HMRfwBTL_YIC",
        "outputId": "321c2d30-6b3e-455e-8fbe-e0d4686e496a"
      },
      "execution_count": 206,
      "outputs": [
        {
          "output_type": "stream",
          "name": "stdout",
          "text": [
            "10/10 [==============================] - 0s 4ms/step\n",
            "0.58\n"
          ]
        }
      ]
    },
    {
      "cell_type": "markdown",
      "source": [
        "##testing model on new input"
      ],
      "metadata": {
        "id": "gog14I1TApRh"
      }
    },
    {
      "cell_type": "code",
      "source": [
        "a1 = [\"you are good\",\n",
        "     \"they were happy\",\n",
        "     \"cake is tasty\",\n",
        "     \"food was delicious\", \n",
        "     \"film was so boring and very bad scenery all throughout the movie\", \n",
        "     \"waiters are so slow in service\",\n",
        "     \"audience were angry on team effor today\"\n",
        "     ]\n",
        "a = [\"food is very tasty\"]\n",
        "a = tokenizer.texts_to_sequences(a)\n",
        "a = np.array(a, dtype='object')\n",
        "a = pad_sequences(a, padding='post', maxlen=20)\n",
        "a = a.reshape((a.shape[0], a.shape[1], 1))\n",
        "print(a.shape)\n",
        "prediction = model.predict(np.array(a))\n",
        "print(prediction)"
      ],
      "metadata": {
        "colab": {
          "base_uri": "https://localhost:8080/"
        },
        "id": "3yDLDdPiARA4",
        "outputId": "ba23e8ec-13e6-4d29-e2f7-649b652b6502"
      },
      "execution_count": 220,
      "outputs": [
        {
          "output_type": "stream",
          "name": "stdout",
          "text": [
            "(1, 20, 1)\n",
            "1/1 [==============================] - 0s 31ms/step\n",
            "[0]\n"
          ]
        }
      ]
    },
    {
      "cell_type": "markdown",
      "source": [
        "0 - negative, \n",
        "1 - positive"
      ],
      "metadata": {
        "id": "nZiWyj7sMPMy"
      }
    },
    {
      "cell_type": "code",
      "source": [
        "p = model.predict(x_tst[0:10])\n",
        "p"
      ],
      "metadata": {
        "colab": {
          "base_uri": "https://localhost:8080/"
        },
        "id": "XQDEMB9NBTzO",
        "outputId": "68c0248b-6e57-4dfa-f419-661ac8d536e0"
      },
      "execution_count": 190,
      "outputs": [
        {
          "output_type": "stream",
          "name": "stdout",
          "text": [
            "1/1 [==============================] - 0s 23ms/step\n"
          ]
        },
        {
          "output_type": "execute_result",
          "data": {
            "text/plain": [
              "array([0, 1, 1, 0, 0, 1, 1, 0, 0, 1])"
            ]
          },
          "metadata": {},
          "execution_count": 190
        }
      ]
    },
    {
      "cell_type": "code",
      "source": [
        "xtst[0:10]"
      ],
      "metadata": {
        "colab": {
          "base_uri": "https://localhost:8080/"
        },
        "id": "MguoPMyhCZc6",
        "outputId": "c9f0bf5e-bdf0-44fc-f02c-77d06675ec3d"
      },
      "execution_count": 192,
      "outputs": [
        {
          "output_type": "execute_result",
          "data": {
            "text/plain": [
              "[[4, 2],\n",
              " [1, 1, 7],\n",
              " [8, 7, 19],\n",
              " [10, 7, 1],\n",
              " [16, 3],\n",
              " [8, 13, 7, 18],\n",
              " [10, 7, 14, 5, 5],\n",
              " [8, 9, 8, 5],\n",
              " [3, 4],\n",
              " [2, 7, 19]]"
            ]
          },
          "metadata": {},
          "execution_count": 192
        }
      ]
    },
    {
      "cell_type": "code",
      "source": [],
      "metadata": {
        "id": "jOtvmVsSCiyL"
      },
      "execution_count": null,
      "outputs": []
    }
  ]
}