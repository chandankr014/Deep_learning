{
  "nbformat": 4,
  "nbformat_minor": 0,
  "metadata": {
    "colab": {
      "provenance": [],
      "collapsed_sections": [],
      "authorship_tag": "ABX9TyOWplsiABiV7dUBfG0Jyg6W",
      "include_colab_link": true
    },
    "kernelspec": {
      "name": "python3",
      "display_name": "Python 3"
    },
    "language_info": {
      "name": "python"
    }
  },
  "cells": [
    {
      "cell_type": "markdown",
      "metadata": {
        "id": "view-in-github",
        "colab_type": "text"
      },
      "source": [
        "<a href=\"https://colab.research.google.com/github/chandankr014/Deep_learning/blob/main/LSTM_Learning_1.ipynb\" target=\"_parent\"><img src=\"https://colab.research.google.com/assets/colab-badge.svg\" alt=\"Open In Colab\"/></a>"
      ]
    },
    {
      "cell_type": "markdown",
      "source": [
        "## LSTM - Long Term Short Memory"
      ],
      "metadata": {
        "id": "FQltwO8mbmX1"
      }
    },
    {
      "cell_type": "code",
      "execution_count": null,
      "metadata": {
        "id": "zpXusIfWbkix"
      },
      "outputs": [],
      "source": [
        "import numpy as np\n",
        "from tensorflow.keras.models import Sequential\n",
        "from tensorflow.keras.layers import Dense\n",
        "from tensorflow.keras.layers import Flatten\n",
        "from tensorflow.keras.layers import LSTM\n"
      ]
    },
    {
      "cell_type": "code",
      "source": [
        "def prepareData(timeseries_data, n_timesteps):\n",
        "  x, y = [], []\n",
        "  for i in range(len(timeseries_data)):\n",
        "    end = i + n_timesteps\n",
        "    if end > len(timeseries_data)-1:\n",
        "      break\n",
        "    seqx, seqy = timeseries_data[i:end], timeseries_data[end]\n",
        "    x.append(seqx)\n",
        "    y.append(seqy)\n",
        "  return np.array(x), np.array(y)\n",
        "\n"
      ],
      "metadata": {
        "id": "vt8HY9ccblv0"
      },
      "execution_count": null,
      "outputs": []
    },
    {
      "cell_type": "code",
      "source": [
        "timeseries_data = [110, 125, 133, 146, 158, 172, 187, 196, 210]\n",
        "n_timesteps = 3"
      ],
      "metadata": {
        "id": "jNkaCVRnbltG"
      },
      "execution_count": null,
      "outputs": []
    },
    {
      "cell_type": "code",
      "source": [
        "x, y = prepareData(timeseries_data, n_timesteps)\n",
        "x,y"
      ],
      "metadata": {
        "colab": {
          "base_uri": "https://localhost:8080/"
        },
        "id": "jJlvXInnblqd",
        "outputId": "d6ae4a6f-0842-49ed-84d9-1e42399ac195"
      },
      "execution_count": null,
      "outputs": [
        {
          "output_type": "execute_result",
          "data": {
            "text/plain": [
              "(array([[110, 125, 133],\n",
              "        [125, 133, 146],\n",
              "        [133, 146, 158],\n",
              "        [146, 158, 172],\n",
              "        [158, 172, 187],\n",
              "        [172, 187, 196]]), array([146, 158, 172, 187, 196, 210]))"
            ]
          },
          "metadata": {},
          "execution_count": 30
        }
      ]
    },
    {
      "cell_type": "code",
      "source": [
        " x.shape, y.shape"
      ],
      "metadata": {
        "colab": {
          "base_uri": "https://localhost:8080/"
        },
        "id": "KC_jFVsaeQYK",
        "outputId": "337afb9a-ddb4-4ea9-9d04-1e4d1295b602"
      },
      "execution_count": null,
      "outputs": [
        {
          "output_type": "execute_result",
          "data": {
            "text/plain": [
              "((6, 3), (6,))"
            ]
          },
          "metadata": {},
          "execution_count": 31
        }
      ]
    },
    {
      "cell_type": "code",
      "source": [
        "n_features = 1\n",
        "x = x.reshape((x.shape[0], x.shape[1], n_features))\n",
        "x.shape"
      ],
      "metadata": {
        "colab": {
          "base_uri": "https://localhost:8080/"
        },
        "id": "Yzfg06lvfOf-",
        "outputId": "7e443e75-0d11-40c8-bba1-0f45ced515b1"
      },
      "execution_count": null,
      "outputs": [
        {
          "output_type": "execute_result",
          "data": {
            "text/plain": [
              "(6, 3, 1)"
            ]
          },
          "metadata": {},
          "execution_count": 32
        }
      ]
    },
    {
      "cell_type": "markdown",
      "source": [
        "*we always need to reshape our data in 3-dimentions in LSTM*<br>\n",
        "**reshape from [samples, timesteps] to [samples, timesteps, features=1]**"
      ],
      "metadata": {
        "id": "yT1wltQ8f5Y6"
      }
    },
    {
      "cell_type": "markdown",
      "source": [
        "---\n",
        "<h2><font color=lime> Building LSTM Model </font></h2>"
      ],
      "metadata": {
        "id": "2ExLOCAngHf7"
      }
    },
    {
      "cell_type": "code",
      "source": [
        "model = Sequential()\n",
        "model.add(LSTM(50, activation='relu', return_sequences=True, input_shape=(n_timesteps, n_features)))\n",
        "model.add(LSTM(50, activation='relu'))\n",
        "model.add(Dense(1))\n",
        "model.compile(optimizer='adam', loss='mse')\n",
        "#fitting model in this architecture\n",
        "model.fit(x, y, epochs=200, verbose=1)"
      ],
      "metadata": {
        "id": "1fNb9KRzfdiS"
      },
      "execution_count": null,
      "outputs": []
    },
    {
      "cell_type": "markdown",
      "source": [
        "###prediction"
      ],
      "metadata": {
        "id": "P5Gj11Pjk2sD"
      }
    },
    {
      "cell_type": "code",
      "source": [
        "x_input = np.array([187, 196, 210])\n",
        "temp_input = list(x_input)\n",
        "list_output = []\n",
        "i=0\n",
        "while(i<10):\n",
        "  if len(temp_input)>3:\n",
        "    x_input = np.array(temp_input[1:])\n",
        "    x_input = x_input.reshape((1, n_timesteps, n_features))\n",
        "    yhat = model.predict(x_input, verbose=1)\n",
        "    #print(\"{} day output {}\".format(i, yhat))\n",
        "    temp_input.append(yhat[0][0])\n",
        "    temp_input = temp_input[1:]\n",
        "    list_output.append(yhat[0][0])\n",
        "    i=i+1\n",
        "  else:\n",
        "    x_input = x_input.reshape((1, n_timesteps, n_features))\n",
        "    yhat = model.predict(x_input, verbose=1)\n",
        "    #print(yhat[0])\n",
        "    temp_input.append(yhat[0][0])\n",
        "    list_output.append(yhat[0][0])\n",
        "    i = i+1\n",
        "\n",
        "print(list_output)"
      ],
      "metadata": {
        "id": "GCoNf9e6hxAP",
        "colab": {
          "base_uri": "https://localhost:8080/"
        },
        "outputId": "bbd19e70-7d5a-4d36-e535-a211604847a1"
      },
      "execution_count": 47,
      "outputs": [
        {
          "output_type": "stream",
          "name": "stdout",
          "text": [
            "1/1 [==============================] - 0s 18ms/step\n",
            "1/1 [==============================] - 0s 22ms/step\n",
            "1/1 [==============================] - 0s 20ms/step\n",
            "1/1 [==============================] - 0s 19ms/step\n",
            "1/1 [==============================] - 0s 70ms/step\n",
            "1/1 [==============================] - 0s 27ms/step\n",
            "1/1 [==============================] - 0s 18ms/step\n",
            "1/1 [==============================] - 0s 22ms/step\n",
            "1/1 [==============================] - 0s 19ms/step\n",
            "1/1 [==============================] - 0s 19ms/step\n",
            "[224.7549, 236.69102, 252.13667, 267.6873, 282.46317, 299.73706, 317.19705, 334.9441, 354.63443, 374.81555]\n"
          ]
        }
      ]
    },
    {
      "cell_type": "code",
      "source": [
        "def find_diff(arr):\n",
        "  for i in range(1,len(arr)):\n",
        "    diff = arr[i] - arr[i-1]\n",
        "    print(diff)\n",
        "find_diff(list_output)"
      ],
      "metadata": {
        "id": "1kEeQdllhw8h",
        "colab": {
          "base_uri": "https://localhost:8080/"
        },
        "outputId": "6c9db63d-29fa-4e70-d9bf-bec05a41d62b"
      },
      "execution_count": 48,
      "outputs": [
        {
          "output_type": "stream",
          "name": "stdout",
          "text": [
            "11.936127\n",
            "15.445648\n",
            "15.550613\n",
            "14.775879\n",
            "17.273895\n",
            "17.459991\n",
            "17.74704\n",
            "19.690338\n",
            "20.181122\n"
          ]
        }
      ]
    },
    {
      "cell_type": "code",
      "source": [],
      "metadata": {
        "id": "1EgHtQK0qg5F"
      },
      "execution_count": null,
      "outputs": []
    },
    {
      "cell_type": "markdown",
      "source": [
        "###plotting graphs"
      ],
      "metadata": {
        "id": "caB8NcR-rVuW"
      }
    },
    {
      "cell_type": "code",
      "source": [
        "import matplotlib.pyplot as plt"
      ],
      "metadata": {
        "id": "p0nsGBxprYzF"
      },
      "execution_count": 49,
      "outputs": []
    },
    {
      "cell_type": "code",
      "source": [
        "day_new = np.arange(1,10)\n",
        "day_pred = np.arange(10,20)\n",
        "day_new"
      ],
      "metadata": {
        "colab": {
          "base_uri": "https://localhost:8080/"
        },
        "id": "_tJm4M_YrelR",
        "outputId": "15f263f6-3019-45fe-9640-f5c9e6e00c3e"
      },
      "execution_count": 51,
      "outputs": [
        {
          "output_type": "execute_result",
          "data": {
            "text/plain": [
              "array([1, 2, 3, 4, 5, 6, 7, 8, 9])"
            ]
          },
          "metadata": {},
          "execution_count": 51
        }
      ]
    },
    {
      "cell_type": "code",
      "source": [
        "plt.plot(day_new, timeseries_data)\n",
        "plt.plot(day_pred, list_output)"
      ],
      "metadata": {
        "colab": {
          "base_uri": "https://localhost:8080/",
          "height": 282
        },
        "id": "gcwh2mCcrsNX",
        "outputId": "ba438efa-22cf-4734-a78c-26b65c342621"
      },
      "execution_count": 52,
      "outputs": [
        {
          "output_type": "execute_result",
          "data": {
            "text/plain": [
              "[<matplotlib.lines.Line2D at 0x7f5d3700ad50>]"
            ]
          },
          "metadata": {},
          "execution_count": 52
        },
        {
          "output_type": "display_data",
          "data": {
            "text/plain": [
              "<Figure size 432x288 with 1 Axes>"
            ],
            "image/png": "[encoded data removed]"
          },
          "metadata": {
            "needs_background": "light"
          }
        }
      ]
    },
    {
      "cell_type": "code",
      "source": [],
      "metadata": {
        "id": "Gy5qkMSPr52s"
      },
      "execution_count": null,
      "outputs": []
    }
  ]
}